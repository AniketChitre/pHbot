{
 "cells": [
  {
   "cell_type": "markdown",
   "id": "7a5d2da5",
   "metadata": {
    "pycharm": {
     "name": "#%% md\n"
    }
   },
   "source": [
    "# Automated pH Adjustment of Liquid Formulations via Physics-Informed ML\n",
    "\n",
    "### Aniket Chitre, Jayce Cheng, Sarfaraz Ahamed, Robert C.M. Querimit, Kedar Hippalgaonkar, Alexei A. Lapkin\n",
    "\n",
    "Any questions, please contact ac2349@cam.ac.uk\n",
    "\n",
    "**Last updated: 24.05.23**\n"
   ]
  },
  {
   "cell_type": "markdown",
   "id": "547ace6e",
   "metadata": {
    "pycharm": {
     "name": "#%% md\n"
    }
   },
   "source": [
    "# 0. Import Packages and Hardware Objects"
   ]
  },
  {
   "cell_type": "code",
   "execution_count": 1,
   "id": "2c95e177",
   "metadata": {
    "pycharm": {
     "name": "#%%\n"
    }
   },
   "outputs": [],
   "source": [
    "#basic python packages required\n",
    "import os\n",
    "import sys\n",
    "import time\n",
    "import random\n",
    "import pandas as pd\n",
    "import numpy as np \n",
    "import sklearn\n",
    "import matplotlib\n",
    "import matplotlib.pyplot as plt\n",
    "#plt.rcParams['figure.dpi'] = 300\n",
    "from datetime import datetime\n",
    "\n",
    "# mathematics packages - to solve equations for titrants chemical system\n",
    "import math\n",
    "from sympy import Symbol, symbols, Eq, solve\n",
    "\n",
    "# machine learning packages\n",
    "from sklearn.linear_model import LinearRegression\n",
    "from sklearn.gaussian_process import GaussianProcessRegressor\n",
    "from sklearn.gaussian_process.kernels import RBF\n",
    "\n",
    "# hardware class object definitions to control the equipment via PySerial module\n",
    "import serial \n",
    "sys.path.append(\"hardware/\")\n",
    "\n",
    "import C3000_SyringePumpsv2, Sentron_pHmeter, PlatformMovement, Stirrer_WashPump\n",
    "\n",
    "from C3000_SyringePumpsv2 import C3000_pump # control of the Tricontinent C-Series syringe pumps \n",
    "from Sentron_pHmeter import SI600_pH # readings from the Sentron SI 600 pH electrode  \n",
    "from PlatformMovement import Ender # control of the 3d-printer Ender platform for x, y, z robotic movements \n",
    "from Stirrer_WashPump import pH_stirrer_WashPump # control of the overhead stirrer and pump for wash station \n",
    "\n",
    "if not os.path.exists(\"titration_data\"): # directory to save data from the titration runs \n",
    "    os.mkdir(\"titration_data\")"
   ]
  },
  {
   "cell_type": "markdown",
   "id": "c3092c84",
   "metadata": {
    "pycharm": {
     "name": "#%% md\n"
    }
   },
   "source": [
    "# 1. Initialise Hardware and Protocol Functions"
   ]
  },
  {
   "cell_type": "markdown",
   "id": "d739ddbf",
   "metadata": {
    "pycharm": {
     "name": "#%% md\n"
    }
   },
   "source": [
    "Lab hardware is controlled as serial objects connected via a USB-interface using the `PySerial` package.\n",
    "\n",
    "Find the port number on Windows through Device Manager or on Mac through running this command (` ls /dev/tty.*`)  on the Terminal "
   ]
  },
  {
   "cell_type": "markdown",
   "id": "5e700dee",
   "metadata": {
    "pycharm": {
     "name": "#%% md\n"
    }
   },
   "source": [
    "## 3d-Printer Platform\n",
    "\n",
    "Useful information: \n",
    "* Max position dimensions: (220, 220, z) - this is a physical, mechanical limit\n",
    "* Homes to (0, 0, 60) - *n.b.* absolute position units are in mm\n",
    "* *N.b.* Ender platform can only be sent to up to 6 positions consecutively. "
   ]
  },
  {
   "cell_type": "code",
   "execution_count": 2,
   "id": "e67cb64c",
   "metadata": {
    "pycharm": {
     "name": "#%%\n"
    }
   },
   "outputs": [
    {
     "name": "stdout",
     "output_type": "stream",
     "text": [
      "0, 0, 90\n"
     ]
    }
   ],
   "source": [
    "platform = Ender('COM4') # initialise the Ender platform (robotic movement)\n",
    "# default z_to_safe = True ensures it moves high enough to avoid crashing into any objects\n",
    "# z-safe programmed to +90 for configuration of pH bot"
   ]
  },
  {
   "cell_type": "code",
   "execution_count": null,
   "id": "3029ad48",
   "metadata": {
    "pycharm": {
     "name": "#%%\n"
    }
   },
   "outputs": [],
   "source": [
    "# print(platform.current_x, platform.current_y, platform.current_z)\n",
    "# platform.to_position((0,0,35)) # co-ordinates must be specified as a tuple\n",
    "# platform.home()"
   ]
  },
  {
   "cell_type": "markdown",
   "id": "d6536992",
   "metadata": {
    "pycharm": {
     "name": "#%% md\n"
    }
   },
   "source": [
    "### Labware Coordinate Definitions"
   ]
  },
  {
   "cell_type": "code",
   "execution_count": 3,
   "id": "4051402e",
   "metadata": {
    "pycharm": {
     "name": "#%%\n"
    },
    "scrolled": true
   },
   "outputs": [],
   "source": [
    "jar_pos = {\n",
    "    'A1_1':(52, 60, 36), 'B1_1':(95.6, 60, 36), 'A2_1':(52, 103, 36), 'B2_1':(95.6, 103, 36), 'A3_1':(52, 147, 36), 'B3_1':(95.6, 148, 36),\n",
    "    'A1_2':(161, 60, 36),'B1_2':(205, 60, 36),'A2_2':(160, 103, 36),'B2_2':(205, 103, 36), 'A3_2':(160, 147, 36),'B3_2':(205, 148, 36)\n",
    "        }\n",
    "\n",
    "jars = ['A3_1','B3_1','A3_2','B3_2',\n",
    "        'A2_1','B2_1','A2_2','B2_2',\n",
    "        'A1_1','B1_1','A1_2','B1_2'] \n",
    "\n",
    "# co-ordinates of wash staton\n",
    "wash_stn     = (127, 218, 34) # submerge the pH probe & stirrer in the wash station.\n",
    "wash_stn_dry = (127, 218, 80) # lift the pH probe & stirrer head out of the wash station to a drying position."
   ]
  },
  {
   "cell_type": "code",
   "execution_count": 4,
   "id": "c9760648",
   "metadata": {
    "pycharm": {
     "name": "#%%\n"
    }
   },
   "outputs": [],
   "source": [
    "def touch_tip(jar, x_off=6, z_off=3):\n",
    "    \n",
    "    '''\n",
    "    Brings end of the dosing needles to touch tip against the side of the sample jar.\n",
    "    Dislodges any droplets suspended via capillary forces at the end of the acid/base needles.\n",
    "    (Mimicks the touch_tip function of the Opentrons robot.)\n",
    "    \n",
    "    Parameters:\n",
    "    jar = ['A1_1', ... , 'B3_2'] position - will call the relevant positions from the jar_pos dict.\n",
    "    '''\n",
    "\n",
    "    # offsets required for touch_tip \n",
    "    x_axis_off = x_off\n",
    "    z_axis_off = z_off\n",
    "    \n",
    "    a_right = jar_pos[jar][0] + x_axis_off \n",
    "    a_left  = jar_pos[jar][0] - x_axis_off\n",
    "    b       = jar_pos[jar][1]\n",
    "    c       = jar_pos[jar][2] + z_axis_off\n",
    "    \n",
    "    # z_to_safe = False, as only want quick x, y motion to remove residual droplet at needle tip \n",
    "    \n",
    "    platform.to_position(coord=(a_right, b, c), z_to_safe=False) # touch right \n",
    "    \n",
    "    platform.to_position(coord=(a_left, b, c), z_to_safe=False)  # touch left \n",
    "\n",
    "    platform.to_position(coord=jar_pos[jar], z_to_safe=False)    # return centre "
   ]
  },
  {
   "cell_type": "markdown",
   "id": "fa2f9fc3",
   "metadata": {
    "pycharm": {
     "name": "#%% md\n"
    }
   },
   "source": [
    "## C-Series Syringe Pumps"
   ]
  },
  {
   "cell_type": "code",
   "execution_count": 5,
   "id": "f8894254",
   "metadata": {
    "pycharm": {
     "name": "#%%\n"
    }
   },
   "outputs": [],
   "source": [
    "# Connect to syringe pumps via serial connection\n",
    "pump_1 = C3000_pump('COM7', '1') # base pump\n",
    "pump_2 = C3000_pump('COM7', '2') # acid pump"
   ]
  },
  {
   "cell_type": "code",
   "execution_count": 6,
   "id": "bd5e5293",
   "metadata": {
    "pycharm": {
     "name": "#%%\n"
    }
   },
   "outputs": [
    {
     "data": {
      "text/plain": [
       "True"
      ]
     },
     "execution_count": 6,
     "metadata": {},
     "output_type": "execute_result"
    }
   ],
   "source": [
    "pump_1.connect()"
   ]
  },
  {
   "cell_type": "code",
   "execution_count": 7,
   "id": "82eb9c39",
   "metadata": {
    "pycharm": {
     "name": "#%%\n"
    },
    "scrolled": true
   },
   "outputs": [
    {
     "data": {
      "text/plain": [
       "True"
      ]
     },
     "execution_count": 7,
     "metadata": {},
     "output_type": "execute_result"
    }
   ],
   "source": [
    "pump_2.connect()"
   ]
  },
  {
   "cell_type": "code",
   "execution_count": 21,
   "id": "20d6d3c6",
   "metadata": {
    "pycharm": {
     "name": "#%%\n"
    }
   },
   "outputs": [
    {
     "data": {
      "text/plain": [
       "True"
      ]
     },
     "execution_count": 21,
     "metadata": {},
     "output_type": "execute_result"
    }
   ],
   "source": [
    "pump_1.initialise() # syringe moves to zero-position: caution! results in emptying of syringe."
   ]
  },
  {
   "cell_type": "code",
   "execution_count": 22,
   "id": "a32b0eec",
   "metadata": {
    "pycharm": {
     "name": "#%%\n"
    }
   },
   "outputs": [
    {
     "data": {
      "text/plain": [
       "True"
      ]
     },
     "execution_count": 22,
     "metadata": {},
     "output_type": "execute_result"
    }
   ],
   "source": [
    "pump_2.initialise()"
   ]
  },
  {
   "cell_type": "code",
   "execution_count": null,
   "id": "440e963d",
   "metadata": {
    "pycharm": {
     "name": "#%%\n"
    },
    "scrolled": true
   },
   "outputs": [],
   "source": [
    "pump_1.prime('3') # default 3 cycles required to sufficiently prime the pump"
   ]
  },
  {
   "cell_type": "code",
   "execution_count": null,
   "id": "70f508d3",
   "metadata": {
    "pycharm": {
     "name": "#%%\n"
    },
    "scrolled": true
   },
   "outputs": [],
   "source": [
    "pump_2.prime('3')"
   ]
  },
  {
   "cell_type": "markdown",
   "id": "1b85e291",
   "metadata": {
    "pycharm": {
     "name": "#%% md\n"
    }
   },
   "source": [
    "### Dose function"
   ]
  },
  {
   "cell_type": "code",
   "execution_count": 23,
   "id": "c0b599f5",
   "metadata": {
    "pycharm": {
     "name": "#%%\n"
    }
   },
   "outputs": [],
   "source": [
    "def dose(chem, vol, jar, init_vel=50, top_vel=200):\n",
    "    \n",
    "    '''\n",
    "    Dose from the Tri-Continent C-3000 syringe pumps \n",
    "    \n",
    "    paramters:\n",
    "    chem     = 'acid' or 'base'\n",
    "    vol      = volume/uL\n",
    "    jar      = position being dispensed to\n",
    "    init_vel = initial velocity of the syringe plunger (increments/sec)\n",
    "    top_vel  = top velocity of the syringe plunger - don't change default arguments unless necessary\n",
    "    '''\n",
    "\n",
    "    if chem == 'base':\n",
    "        pump_1.dose(vol, init_vel, top_vel)\n",
    "    elif chem == 'acid':\n",
    "        pump_2.dose(vol, init_vel, top_vel) \n",
    "        \n",
    "    touch_tip(jar) # touch tip to side of jars to remove residual drops at tip of dosing needles"
   ]
  },
  {
   "cell_type": "markdown",
   "id": "f1065bf7",
   "metadata": {
    "pycharm": {
     "name": "#%% md\n"
    }
   },
   "source": [
    "#### Dose from pump 1 (base)"
   ]
  },
  {
   "cell_type": "code",
   "execution_count": null,
   "id": "31f1c1e6",
   "metadata": {
    "pycharm": {
     "name": "#%%\n"
    },
    "scrolled": false
   },
   "outputs": [],
   "source": [
    "pump_1.dose(70, 50, 200)"
   ]
  },
  {
   "cell_type": "markdown",
   "id": "d3c7e9be",
   "metadata": {
    "pycharm": {
     "name": "#%% md\n"
    }
   },
   "source": [
    "#### Dose from pump 2 (acid)"
   ]
  },
  {
   "cell_type": "code",
   "execution_count": null,
   "id": "fcb478f2",
   "metadata": {
    "pycharm": {
     "name": "#%%\n"
    },
    "scrolled": true
   },
   "outputs": [],
   "source": [
    "pump_2.dose(250, 50, 200)"
   ]
  },
  {
   "cell_type": "markdown",
   "id": "10ecbee2",
   "metadata": {
    "pycharm": {
     "name": "#%% md\n"
    }
   },
   "source": [
    "## Sentron pH Meter"
   ]
  },
  {
   "cell_type": "code",
   "execution_count": 9,
   "id": "87d130e9",
   "metadata": {
    "pycharm": {
     "name": "#%%\n"
    }
   },
   "outputs": [],
   "source": [
    "pH_meter = SI600_pH('COM10') # connect to pH meter via serial connection"
   ]
  },
  {
   "cell_type": "code",
   "execution_count": null,
   "id": "28439524",
   "metadata": {
    "pycharm": {
     "name": "#%%\n"
    }
   },
   "outputs": [],
   "source": [
    "# initial_pH = pH_meter.reading()[5:10]\n",
    "# float(initial_pH)"
   ]
  },
  {
   "cell_type": "markdown",
   "id": "42c2f8b7",
   "metadata": {
    "pycharm": {
     "name": "#%% md\n"
    }
   },
   "source": [
    "#### Move Between Jar Positions (Buffer Solutions) for pH Probe Calibration "
   ]
  },
  {
   "cell_type": "code",
   "execution_count": 19,
   "id": "d46abc96",
   "metadata": {
    "pycharm": {
     "name": "#%%\n"
    }
   },
   "outputs": [],
   "source": [
    "platform.to_position(jar_pos['A1_1'])"
   ]
  },
  {
   "cell_type": "code",
   "execution_count": 20,
   "id": "8079f3f7",
   "metadata": {
    "pycharm": {
     "name": "#%%\n"
    },
    "scrolled": true
   },
   "outputs": [
    {
     "name": "stdout",
     "output_type": "stream",
     "text": [
      "0, 0, 90\n"
     ]
    }
   ],
   "source": [
    "platform.home()"
   ]
  },
  {
   "cell_type": "markdown",
   "id": "c8b2fb72",
   "metadata": {
    "pycharm": {
     "name": "#%% md\n"
    }
   },
   "source": [
    "## Stirrer and Pump for Wash Station"
   ]
  },
  {
   "cell_type": "code",
   "execution_count": 10,
   "id": "145e4bd8",
   "metadata": {
    "pycharm": {
     "name": "#%%\n"
    }
   },
   "outputs": [],
   "source": [
    "stirrer_washpump = pH_stirrer_WashPump('COM3') # propeller and 2 pumps on ardunio connected via USB - serial port"
   ]
  },
  {
   "cell_type": "code",
   "execution_count": 14,
   "id": "113134ad",
   "metadata": {
    "pycharm": {
     "name": "#%%\n"
    },
    "scrolled": true
   },
   "outputs": [
    {
     "name": "stdout",
     "output_type": "stream",
     "text": [
      "Stirring at 0 speed and wash station inlet and outlet pumps at 0 & 0 speeds, respectively.\n"
     ]
    }
   ],
   "source": [
    "stirrer_washpump.stir_pump(0,0,0, print_statement=True)"
   ]
  },
  {
   "cell_type": "markdown",
   "id": "9e02a687",
   "metadata": {
    "pycharm": {
     "name": "#%% md\n"
    }
   },
   "source": [
    "### `stirrer_washpump.stir_pump(arg1, arg2, arg3)` - the 3 arguments correspond to: \n",
    "\n",
    "1. The speed of the propeller - keep at top speed = 255 to maximise stirring efficiency, especially important for viscous samples.\n",
    "2. The speed of the inlet pump to the wash tank - keep at 180.\n",
    "3. The speed of the outlet pump to the wash tank - also keep at 180. \n",
    "\n",
    "*N.b.* The pumps are quite powerful and don't need to be run at their full capacity (255)."
   ]
  },
  {
   "cell_type": "code",
   "execution_count": 24,
   "id": "b6ef272f",
   "metadata": {
    "pycharm": {
     "name": "#%%\n"
    }
   },
   "outputs": [],
   "source": [
    "def wash():\n",
    "    platform.to_position(wash_stn)  # move the probe & stirrer to the wash station\n",
    "    time.sleep(20)  # wait 20 seconds to allow the probe & stirrer to get to position\n",
    "    stirrer_washpump.stir_pump(255, 180, 0) # start the IPA wash & jets - spin the propeller, results in self-cleaning\n",
    "    time.sleep(7.5) # 7.5 seconds is sufficient for the wash tank to fill to the level of the jets\n",
    "    stirrer_washpump.stir_pump(0, 180, 180) # start the wash tank outlet pump to prevent overflowing\n",
    "    time.sleep(7.5) # total 15 seconds of washing in IPA - ~ 300 mL IPA so 12 samples ~ 1 5 L IPA bottle\n",
    "    stirrer_washpump.stir_pump(0, 0, 180) # run just the outlet pump to empty the tank, otherwise could overfill next time\n",
    "    time.sleep(10)\n",
    "    stirrer_washpump.stir_pump(255, 0, 0) # keep the stirrer spinning\n",
    "    time.sleep(10)\n",
    "    platform.to_position(wash_stn_dry) # let the probe & stirrer sit outside the wash station to dry for 30 seconds\n",
    "    time.sleep(30)\n",
    "    stirrer_washpump.stir_pump(0, 0, 0)\n",
    "    print(\"Washing complete\")"
   ]
  },
  {
   "cell_type": "code",
   "execution_count": 35,
   "id": "9fbb0ab4",
   "metadata": {
    "pycharm": {
     "name": "#%%\n"
    },
    "scrolled": true
   },
   "outputs": [
    {
     "name": "stdout",
     "output_type": "stream",
     "text": [
      "Washing complete\n"
     ]
    }
   ],
   "source": [
    "wash()"
   ]
  },
  {
   "cell_type": "markdown",
   "id": "ef25259d",
   "metadata": {
    "pycharm": {
     "name": "#%% md\n"
    }
   },
   "source": [
    "### Channels to the Wash Station - to minimise cross-contamination via drippage"
   ]
  },
  {
   "cell_type": "code",
   "execution_count": 25,
   "id": "2222cc74",
   "metadata": {
    "pycharm": {
     "name": "#%%\n"
    }
   },
   "outputs": [],
   "source": [
    "def channel_stirrer(jar):\n",
    "    '''\n",
    "    After mixing the more viscous samples, there is viscous residue left on the propeller and probe.\n",
    "    This would drip into the neighbouring sample jars, thereby contaminating them, if the most direct path to the wash station was used.\n",
    "    Instead this function ensures the robot moves via empty channels (created between the jar holders) to the wash station.\n",
    "    '''\n",
    "    \n",
    "    if jar == 'B1_1' or jar == 'B2_1' or  jar == 'B3_1':\n",
    "        \n",
    "        x_axis_off = 28\n",
    "        \n",
    "        a = jar_pos[jar][0] + x_axis_off\n",
    "        b = jar_pos[jar][1]\n",
    "        c = jar_pos[jar][2]\n",
    "        \n",
    "        platform.to_position(coord=(a, b, 90), z_to_safe = False)\n",
    "        platform.to_position(coord=(a,218,90), z_to_safe = False)\n",
    "        platform.to_position(coord=(127,218,90), z_to_safe = False)\n",
    "        \n",
    "    if jar == 'A1_1' or jar == 'A2_1' or jar == 'A3_1':\n",
    "\n",
    "        x_axis_off = 32\n",
    "        \n",
    "        a = jar_pos[jar][0] - x_axis_off\n",
    "        b = jar_pos[jar][1]\n",
    "        c = jar_pos[jar][2]\n",
    "        \n",
    "        platform.to_position(coord=(a, b, 90), z_to_safe = False)\n",
    "        platform.to_position(coord=(a,218,90), z_to_safe = False)\n",
    "        platform.to_position(coord=(127,218,90), z_to_safe = False)"
   ]
  },
  {
   "cell_type": "markdown",
   "id": "8a28ceff",
   "metadata": {
    "pycharm": {
     "name": "#%% md\n"
    }
   },
   "source": [
    "# 2. Chemistry-Informed ML-driven pH Adustment Algorithm"
   ]
  },
  {
   "cell_type": "markdown",
   "id": "60dfab30",
   "metadata": {},
   "source": [
    "## 2.1 The Chemistry of The Titrants\n",
    "\n",
    "The developed method is completely general to work with any acid/base strong-strong, weak/strong, or strong/weak titrant pairs. Only a classification of whether a particular acid or base is strong or weak and its respective acid/base hydrolysis constant(s) information is required. This has been included in Python dictionaries for the following: `\"Hydrochloric acid\"`, `\"Nitric acid\"`, `\"Sulfuric acid\"`,`\"Acetic acid\"`,`\"Carbonic acid\"`, `\"Citric acid\"`, `\"Sodium hydroxide\"`,`\"Potassium hydroxide\"`,`\"Calcium hydroxide\"`, `\"Ammonia solution\"`. \n",
    "\n",
    "More substances can easily be added. With this in mind, this project was originally concieved with the need to **titrate viscous liquid formulated products to an industrially specified target pH using citric acid/sodium hydroxide**. "
   ]
  },
  {
   "cell_type": "code",
   "execution_count": 26,
   "id": "055c2666",
   "metadata": {},
   "outputs": [],
   "source": [
    "acid_strength = {\n",
    "    \"Hydrochloric acid\": \"Strong\",\n",
    "    \"Nitric acid\": \"Strong\",\n",
    "    \"Sulfuric acid\": \"Strong\",\n",
    "    \"Acetic acid\": \"Weak\",\n",
    "    \"Carbonic acid\": \"Weak\",\n",
    "    \"Citric acid\": \"Weak\"\n",
    "}\n",
    "\n",
    "base_strength = {\n",
    "    \"Sodium hydroxide\": \"Strong\",\n",
    "    \"Potassium hydroxide\": \"Strong\",\n",
    "    \"Calcium hydroxide\": \"Strong\",\n",
    "    \"Ammonia solution\": \"Weak\"\n",
    "}\n",
    "# the maximum number of protons which can be released from 1 acid molecule - max normality of the acid\n",
    "acid_n = {\n",
    "    \"Hydrochloric acid\": 1,\n",
    "    \"Nitric acid\": 1,\n",
    "    \"Sulfuric acid\": 2,\n",
    "    \"Acetic acid\": 1,\n",
    "    \"Carbonic acid\": 2,\n",
    "    \"Citric acid\": 3\n",
    "}\n",
    "\n",
    "# the maximum number of hydroxide ions which can be released from 1 base molecule - max normality of the base\n",
    "base_n = {\n",
    "    \"Sodium hydroxide\": 1,\n",
    "    \"Potassium hydroxide\": 1,\n",
    "    \"Calcium hydroxide\": 2,\n",
    "    \"Ammonia solution\": 1\n",
    "}\n",
    "\n",
    "# acid hydrolysis equilibria constants\n",
    "acid_Ka = {\n",
    "    \"Acetic acid\": [1.8e-5],\n",
    "    \"Carbonic acid\": [4.4e-7, 4.7e-11],\n",
    "    \"Citric acid\": [7.4e-4, 1.7e-5, 4.0e-7]\n",
    "}\n",
    "\n",
    "#  base hydrolysis equilibria constants\n",
    "base_Kb = {\n",
    "    \"Ammonia solution\": [1.8e-5]\n",
    "}\n",
    "\n",
    "Kw = 1e-14  # auto-ionisation of water constant @ 25 deg C"
   ]
  },
  {
   "cell_type": "code",
   "execution_count": 27,
   "id": "dd903e04",
   "metadata": {},
   "outputs": [],
   "source": [
    "def equivalence_point(titrant_A, titrant_B, A_conc, B_conc):\n",
    "    \"\"\"\n",
    "    Takes an acid-base pairs, and their concentrations, and returns the pH at the equivalence point if you titrated the two against each other.\n",
    "    \"\"\"\n",
    "\n",
    "    if acid_strength[titrant_A] == \"Strong\" and base_strength[titrant_B] == \"Strong\":\n",
    "        return 7.0  # strong-strong pair has its equivalence point at pH 7\n",
    "\n",
    "    elif acid_strength[titrant_A] == \"Weak\" and base_strength[titrant_B] == \"Strong\":\n",
    "\n",
    "        conj_base_0 = A_conc * acid_n[titrant_A] / (1 + A_conc * acid_n[titrant_A] / B_conc * base_n[titrant_B])  # initial concentration of the conjugate base of the weak acid\n",
    "        Kb = Kw / acid_Ka[titrant_A][-1]     # from Ka.Kb = Kw - take the lowest Ka value (for the final dissociation), hence [-1]\n",
    "\n",
    "        b = Symbol('b')  # b = [OH-]\n",
    "        eqn = b ** 2 + Kb * b - Kb * conj_base_0\n",
    "\n",
    "        sol = solve(eqn, b)  # solve the quadratic equation for [OH-]\n",
    "\n",
    "        pos_root = [r for r in sol if r > 0][0]     # take only the positive root\n",
    "\n",
    "        return 14 + math.log10(pos_root)    # pH = 14 - pOH\n",
    "\n",
    "    elif acid_strength[titrant_A] == \"Strong\" and base_strength[titrant_B] == \"Weak\":\n",
    "\n",
    "        conj_acid_0 = B_conc * base_n[titrant_B] / (1 + B_conc * base_n[titrant_B] / A_conc * acid_n[titrant_A])  # initial concentration of the conjugate acid of the weak base\n",
    "\n",
    "        Ka = Kw / base_Kb[titrant_B][-1]\n",
    "\n",
    "        a = Symbol('a')  # a = [H3O+]\n",
    "        eqn = a ** 2 + Ka * a - Ka * conj_acid_0\n",
    "\n",
    "        sol = solve(eqn, a)  # solve the quadratic equation for [H+]\n",
    "\n",
    "        pos_root = [r for r in sol if r > 0][0]     # take only the positive root\n",
    "\n",
    "        return -math.log10(pos_root)    # pH = -log10([H3O+])\n",
    "\n",
    "    else:   # we are not considering weak-weak acid base pairs as these are not of practical interest\n",
    "        print(\"Please select a non weak acid/weak base pair.\")   # raise an error for the user to select a different acid-base pair."
   ]
  },
  {
   "cell_type": "code",
   "execution_count": 28,
   "id": "aa02eedb",
   "metadata": {},
   "outputs": [],
   "source": [
    "def w(pH, EQ_pH, dampen):\n",
    "    \"\"\"\n",
    "    A dampening function which passes through (pH = 0, w = 0), (pH = 14, w = 0) and with a maxima at the equivalence point pH.\n",
    "    Input: pH value [0-14], equivalence point, dampening factor [0-1]\n",
    "    For strong-strong acid pairs a simple quadratic function is used.\n",
    "    However, for weak strong acid-pairs a rational function approximation of the form y = ax + b + c/(d+x) is used.\n",
    "    The `sympy` Python package is used to solve the resulting system of equations.\n",
    "    \"\"\"\n",
    "\n",
    "    if EQ_pH == 7.0:\n",
    "\n",
    "        return dampen * (-pH ** 2 / 49 + 2 * pH / 7)\n",
    "\n",
    "    else:\n",
    "\n",
    "        # Define the variables\n",
    "        a, b, c, d = symbols('a b c d')\n",
    "\n",
    "        # Define the equations\n",
    "        eq1 = Eq(a - c / (EQ_pH + d) ** 2, 0)\n",
    "        eq2 = Eq(EQ_pH * a + b + c / (EQ_pH + d), 1)\n",
    "        eq3 = Eq(b + c / d, 0)\n",
    "        eq4 = Eq(14 * a + b + c / (14 + d), 0)\n",
    "\n",
    "        # Solve the system of equations\n",
    "        sol = solve((eq1, eq2, eq3, eq4), (a, b, c, d))\n",
    "\n",
    "        a, b, c, d = sol[0][0], sol[0][1], sol[0][2], sol[0][3]\n",
    "\n",
    "        return dampen * (a * pH + b + c / (d + pH))"
   ]
  },
  {
   "cell_type": "code",
   "execution_count": 29,
   "id": "609229ef",
   "metadata": {},
   "outputs": [],
   "source": [
    "def species_effective_conc(titrant_A, A_conc, titrant_B, B_conc, pH):\n",
    "    \"\"\"\n",
    "    Computes the effective concentration of protons or hydroxide ions released into solution.\n",
    "    This is chemistry and pH-dependent.\n",
    "    \"\"\"\n",
    "\n",
    "    x = np.power(10, -pH)   # x = [H3O+]\n",
    "\n",
    "    pOH = 14 - pH\n",
    "    y = np.power(10, -pOH)  # y = [OH-]\n",
    "\n",
    "    if acid_strength[titrant_A] == \"Weak\" and len(acid_Ka[titrant_A]) == 1 and base_strength[titrant_B] == \"Strong\":\n",
    "\n",
    "        Ka = acid_Ka[titrant_A][0]\n",
    "        frac_A = Ka / (Ka + x)\n",
    "        a_eff = frac_A * A_conc\n",
    "        b_eff = B_conc * base_n[titrant_B]\n",
    "\n",
    "    elif acid_strength[titrant_A] == \"Weak\" and len(acid_Ka[titrant_A]) == 2 and base_strength[titrant_B] == \"Strong\":\n",
    "\n",
    "        Ka1 = acid_Ka[titrant_A][0]\n",
    "        Ka2 = acid_Ka[titrant_A][1]\n",
    "\n",
    "        frac_A = (Ka1 * Ka2) / (x ** 2 + Ka1 * x + Ka1 * Ka2)\n",
    "        frac_HA = (Ka1 * x) / (x ** 2 + Ka1 * x + Ka1 * Ka2)\n",
    "\n",
    "        a_eff = (2 * frac_A + 1 * frac_HA) * A_conc\n",
    "\n",
    "        b_eff = B_conc * base_n[titrant_B]\n",
    "\n",
    "    elif acid_strength[titrant_A] == \"Weak\" and len(acid_Ka[titrant_A]) == 3 and base_strength[titrant_B] == \"Strong\":\n",
    "\n",
    "        Ka1 = acid_Ka[titrant_A][0]\n",
    "        Ka2 = acid_Ka[titrant_A][1]\n",
    "        Ka3 = acid_Ka[titrant_A][2]\n",
    "\n",
    "        frac_A = (Ka1 * Ka2 * Ka3) / (x ** 3 + Ka1 * x ** 2 + Ka1 * Ka2 * x + Ka1 * Ka2 * Ka3)\n",
    "        frac_HA = (Ka1 * Ka2 * x) / (x ** 3 + Ka1 * x ** 2 + Ka1 * Ka2 * x + Ka1 * Ka2 * Ka3)\n",
    "        frac_H2A = (Ka1 * x ** 2) / (x ** 3 + Ka1 * x ** 2 + Ka1 * Ka2 * x + Ka1 * Ka2 * Ka3)\n",
    "\n",
    "        a_eff = (3 * frac_A + 2 * frac_HA + 1 * frac_H2A) * A_conc\n",
    "\n",
    "        b_eff = B_conc * base_n[titrant_B]\n",
    "\n",
    "    elif acid_strength[titrant_A] == \"Strong\" and base_strength[titrant_B] == \"Weak\" and len(base_Kb[titrant_B]) == 1:\n",
    "\n",
    "        a_eff = A_conc * acid_n[titrant_A]\n",
    "\n",
    "        Kb = base_Kb[titrant_B][0]\n",
    "        frac_B = Kb / (Kb + y)\n",
    "        b_eff = frac_B * B_conc\n",
    "\n",
    "    else:\n",
    "\n",
    "        a_eff = A_conc * acid_n[titrant_A]\n",
    "        b_eff = B_conc * base_n[titrant_B]\n",
    "\n",
    "    return a_eff, b_eff"
   ]
  },
  {
   "cell_type": "code",
   "execution_count": 30,
   "id": "b0862dec",
   "metadata": {},
   "outputs": [],
   "source": [
    "def hydroxonium_hydroxide(V, titrant_A, A_conc, titrant_B, B_conc, pH):\n",
    "    \"\"\"\n",
    "    Function converts from volume to moles.\n",
    "    \"\"\"\n",
    "\n",
    "    C_acid_eff, C_base_eff = species_effective_conc(titrant_A, A_conc, titrant_B, B_conc, pH)\n",
    "\n",
    "    if V >= 0:\n",
    "        n = C_base_eff * V\n",
    "    else:\n",
    "        n = C_acid_eff * V\n",
    "    return n\n",
    "\n",
    "\n",
    "def vol_acid_base(n, titrant_A, A_conc, titrant_B, B_conc, pH):\n",
    "    \"\"\"\n",
    "    Function converts from moles to volume, which is dependent on pH for the weak acid.\n",
    "    \"\"\"\n",
    "\n",
    "    C_acid_eff, C_base_eff = species_effective_conc(titrant_A, A_conc, titrant_B, B_conc, pH)\n",
    "\n",
    "    if n >= 0:\n",
    "        V = n / C_base_eff\n",
    "    else:\n",
    "        V = n / C_acid_eff\n",
    "\n",
    "    return V"
   ]
  },
  {
   "attachments": {
    "image.png": {
     "image/png": "[encoded data removed]"
    }
   },
   "cell_type": "markdown",
   "id": "8716a2d6",
   "metadata": {
    "pycharm": {
     "name": "#%% md\n"
    }
   },
   "source": [
    "## 2.2 pH Adjustment Algorithm: Automation x ML\n",
    "\n",
    "<div>\n",
    "<img src=\"attachment:image.png\" width=\"750\"/>\n",
    "</div>"
   ]
  },
  {
   "cell_type": "code",
   "execution_count": 31,
   "id": "20e706a9",
   "metadata": {
    "pycharm": {
     "name": "#%%\n"
    }
   },
   "outputs": [],
   "source": [
    "def pH_tit_vol(df, pH_target):\n",
    "\n",
    "    '''\n",
    "    Reads a DataFrame containing the amount of acid/base added and resulting pH measurements.\n",
    "    Outputs a data-driven suggestion for the number of moles of titrant required to reach the target pH.\n",
    "    '''\n",
    "\n",
    "    # inputs from the df need to be re-formatted into numpy arrays for the ML packages\n",
    "    x = [df['Net moles of protons(-)/hydroxide(+) (\\u03BCmol)']]\n",
    "    y = [df['pH of Sample']]\n",
    "    X = np.reshape(x, (-1,1)) \n",
    "    Y = np.reshape(y, (-1,1)) \n",
    "    \n",
    "    # Method involves developing a surrogate model to the titration curve\n",
    "    # The surrogate model is a Gaussian Process with a mean function modelled by a linear regression model.\n",
    "    # This enables us to reflect that titration curves are always monotonically increasing functions. \n",
    "    \n",
    "    lin_reg = LinearRegression(positive=True) # Forces the slope of the titration curve to be positive \n",
    "    \n",
    "    lin_reg.fit(X,Y)\n",
    "    \n",
    "    m = lin_reg.coef_\n",
    "    b = lin_reg.intercept_\n",
    "\n",
    "    # Model the pH on a domain as wide as the intersection points of the linear model and pH 1 & 14\n",
    "    pH_LB = 1\n",
    "    pH_UB = 14 \n",
    "    \n",
    "    LB = (pH_LB - b)/m  # x @ pH 1\n",
    "    UB = (pH_UB - b)/m  # x @ pH 14 \n",
    "    \n",
    "    x_grid = np.linspace(LB, UB, num=100).reshape(-1,1)\n",
    "    \n",
    "    plt.close('all')\n",
    "    \n",
    "    if len(df.index) == 2:\n",
    "        \n",
    "        # First call of the ML algorithm, select the amount of acid/base using only the linear model\n",
    "        \n",
    "        y_lin_pred = lin_reg.predict(x_grid)\n",
    "        \n",
    "        f, ax = plt.subplots(1, 1, figsize=(6, 4))\n",
    "        \n",
    "        ax.scatter(x, y, c='k', marker='*', label='Observed Data');\n",
    "        ax.plot(x_grid, y_lin_pred, 'g-', label='Initial Prediction');\n",
    "        ax.set_xlabel('Net moles of protons(-)/hydroxide(+) (\\u03BCmol)');\n",
    "        ax.set_ylabel('pH');\n",
    "        ax.set_ylim([pH_LB, pH_UB]);\n",
    "        ax.legend();\n",
    "        plt.show()\n",
    "        \n",
    "        # \"acquisition function\"\n",
    "        ix = np.argmin(abs(y_lin_pred - pH_target))\n",
    "        new_mol = x_grid[ix]\n",
    "        \n",
    "    else:\n",
    "        \n",
    "        y_lin_pred = lin_reg.predict(X)\n",
    "        err        = Y - y_lin_pred\n",
    "        \n",
    "        # Selection of appropriate kernel bounds very important\n",
    "        AC = RBF(length_scale=1, length_scale_bounds=(.001, 5000))\n",
    "\n",
    "        gp_reg = GaussianProcessRegressor(n_restarts_optimizer=250, random_state=42, kernel=AC)\n",
    "\n",
    "        # Build a GP model over the error of the linear model\n",
    "        gp_reg.fit(X, err)\n",
    "        \n",
    "        err_pred, sigma = gp_reg.predict(x_grid, return_std=True)\n",
    "        \n",
    "        err_pred = err_pred.reshape(-1,1)\n",
    "        sigma = sigma.reshape(-1,1)\n",
    "        \n",
    "        surrogate = lin_reg.predict(x_grid) + err_pred\n",
    "        \n",
    "        f, ax = plt.subplots(1, 1, figsize=(6, 4))\n",
    "\n",
    "        ax.scatter(x, y, c='k', marker='*', label='Observed Data');\n",
    "        ax.plot(x_grid, surrogate, 'g-', label='Mean');\n",
    "        ax.set_xlabel('Net moles of protons(-)/hydroxide(+) (\\u03BCmol)');\n",
    "        ax.set_ylabel('pH');\n",
    "        UB_95CI = surrogate + 1.96*sigma # UB 95% confidence interval\n",
    "        LB_95CI = surrogate - 1.96*sigma # LB 95% confidence interval \n",
    "        ax.fill_between(x_grid.reshape(-1), UB_95CI.reshape(-1), LB_95CI.reshape(-1), color='tab:green', alpha=0.50, label='95% Confidence');\n",
    "        ax.set_ylim([pH_LB, pH_UB]);\n",
    "        ax.legend();\n",
    "        plt.show()\n",
    "        \n",
    "        # \"acquisition function\"\n",
    "        ix = np.argmin(abs(surrogate - pH_target)) \n",
    "        new_mol = int(x_grid[ix])\n",
    "    \n",
    "    print(f\"Predicted moles of H+/OH- ions to reach target (pH = {pH_target}): {int(new_mol)} umol.\")\n",
    "    \n",
    "    return new_mol # new mol is the TOTAL amount of moles predicted to reach the target pH"
   ]
  },
  {
   "cell_type": "code",
   "execution_count": 32,
   "id": "66f99340",
   "metadata": {
    "pycharm": {
     "name": "#%%\n"
    }
   },
   "outputs": [],
   "source": [
    "def pH_adj(jar, pH_dev, dpHdt_dev, titrant_A=\"Citric acid\", titrant_B=\"Sodium hydroxide\", A_conc=0.5, B_conc=0.5,\n",
    "           V_sample=10, pH_target=5.8, pH_tol=0.20, delta_initial=0.1, max_stir_t=300,\n",
    "           zeta=0.7, mu=0.7, init_LB_perc=0.5, init_UB_perc=1.0, max_acid = -800, max_base=800):\n",
    "    \n",
    "    '''\n",
    "    pH Adjustment Algorithm - titrates a single sample to within a target_pH +/- pH_tol. Key features include:\n",
    "    - Control of the robotic platform. The hardware is controlled through this function. \n",
    "    - Calls the above pre-defined functions to carry out the titration based on knowledge of the titrants' physical chemistry.\n",
    "    - Multi-stage algorithm: changes tact based on the iteration of pH adjustment and also whether the target has been overshot.\n",
    "    - The suggestion and addition of acid/base is constrained within user-specified bounds. \n",
    "    - The mixing time after acid or base addition is dynamically controlled to optimise the time this protocol takes.\n",
    "    \n",
    "    Note several parameters are given as default arguments as either:\n",
    "    i) The algorithm is used for a fixed industrially specified problem statment - but the method is general and other arguments can be selected.\n",
    "    ii) The parameters have been optimised via trial-and-error to work well with the ACJC titration bot. \n",
    "\n",
    "    Inputs:\n",
    "    jar             = Sample to be titrated\n",
    "    pH_dev          = Acceptable deviation of the pH value for the pH to be considered at steady state after acid or base addition.\n",
    "    dpHdt_dev       = Acceptable deviation of derivative of the pH w.r.t time \" \" at steady state.\n",
    "    titrant_A       = Choice of acid - spelling must match the dictionaries storing the titrant's chemical information.\n",
    "    titrant_B       = Choice of base \" \".\n",
    "    A_conc/B_conc   = Concentration of acid/base (M)\n",
    "    V_sample        = Volume of sample to be titrated (mL)\n",
    "    pH_target/tol   = (default value = 5.80) - industry partner specified target with a +/- 0.20 pH_tol\n",
    "    delta_initial   = Minimum deviation of the pH post acid or base deviation for the pH to be considered to have changed. Used in dynamic control of the mixing time. \n",
    "    max_stir_t      = Maximum stirring time (s). If the pH has not stabilised within this time, stop stirring anyways. \n",
    "    zeta            = Weighting factor on 1st step - dampens the suggested titrant addition to prevent overshooting. [0-1]\n",
    "    mu              = Dampening factor in buffering region [0-1]\n",
    "    init_LB/UB_perc = Limits for the random small addition of titrant in the beginning to generate initial data (%)\n",
    "    max_acid/base   = Maximum volume of acid/base to be added (uL) \n",
    "    '''\n",
    "        \n",
    "    # Operational constants\n",
    "    \n",
    "    min_disp = 25 # Volume of 1 drop ~ 15-25 uL so liquid handling is not as accurate below this volume, hence set min.\n",
    "    \n",
    "    stirrer_off  = 0\n",
    "    stirrer_on   = 255\n",
    "    in_pump_off  = 0\n",
    "    in_pump_on   = 180\n",
    "    out_pump_off = 0\n",
    "    out_pump_on  = 180\n",
    "    \n",
    "    def pH_stable_check_bool(pH_list, dpHdt_list, pH_dev, dpHdt_dev):\n",
    "        '''\n",
    "        Checks whether the difference between consecutive pH points is below an acceptable deviation limit.\n",
    "        And checks that the change in pH is also above a limit, i.e., threshold. \n",
    "        When the two criterion are met simulataneously the reading is considered stable.\n",
    "\n",
    "        Inputs:\n",
    "        pH_list & dpHdt_list: pH and its derivative w.r.t time.\n",
    "        pH_dev: maximum acceptable deviance for the pH to be at steady state.\n",
    "        dpHdt_dev: maximum acceptive deviance of the derivative of pH w.r.t. time.\n",
    "        '''\n",
    "        stable_check = [] # initiate an empty list\n",
    "        for i in range(1,len(pH_list)-1): # start at index 1 as we'll look at the difference [i] - [i-1]\n",
    "            if (abs(pH_list[i] - pH_list[i-1])<pH_dev) & (abs(dpHdt_list[i]) < dpHdt_dev): \n",
    "                stable_check.append(True) # pH reading has stabilised.\n",
    "            else:\n",
    "                stable_check.append(False) # not reached steady state yet.\n",
    "        return stable_check # boolean list\n",
    "    \n",
    "    def detect_consecutive_true_index(boolean_list, n):\n",
    "        '''\n",
    "        Inputs:\n",
    "        boolean_list: output from pH_stable_check_bool\n",
    "        n: number of intervals over which we check whether the pH is stable.\n",
    "        '''\n",
    "        count = 0 # initialise counter\n",
    "        for i, value in enumerate(boolean_list): # iterates through the boolean_list\n",
    "            if value: \n",
    "                count += 1 # each time True is encountered the counter is incremeted\n",
    "                if count == n: \n",
    "                    return i # if we reach n, return the index as i - it'll then exit the loop & so only return the first occurence of this.\n",
    "            else:\n",
    "                count = 0\n",
    "\n",
    "        return -1  # Return -1 if a sufficient number of consecutive True values are NOT found\n",
    "    \n",
    "    def mix_sample(pH_dev, dpHdt_dev, max_stir_t, pH_premix, delta_initial, interval_t=3, min_stir_intervals=3):\n",
    "        '''\n",
    "        Dynamically control the stirring after acid/base addition until the pH stabilises or a max time is reached.\n",
    "        \n",
    "        Inputs:\n",
    "        pH_dev, dpHdt_dev  = Thresholds to check that the pH has reached steady state (also see definitions above).\n",
    "        max_stir_t         = Maximum stirring time (s).\n",
    "        pH_premix          = pH reading before mixing. \n",
    "        delta_initial      = (See above).\n",
    "        interval_t         = Time between pH measurements will be ~ interval_t + 1 + 1 (s). N.b. +2 seconds from communication with pH meter.\n",
    "        min_stir_intervals = Minimum number of time intervals the pH needs to be stable over to be considered stabilised - here 3*(3+1+1) = 15 seconds.\n",
    "        '''\n",
    "        stirrer_washpump.stir_pump(stirrer_on, in_pump_off, out_pump_off) # turn the stirrer on\n",
    "        \n",
    "        time_elapsed = 0 \n",
    "        start_t      = time.time() # start stopwatch \n",
    "        \n",
    "        # initialise data structures to log the pH data\n",
    "        pH_log    = []\n",
    "        time_log  = []\n",
    "        dpHdt_log = []\n",
    "        \n",
    "        i = 0 # initialise counter \n",
    "        \n",
    "        n = min_stir_intervals  # set criterion that the pH remains stable over min_stir_intervals. \n",
    "        \n",
    "        stable = False # initialise that the pH reading is unstable\n",
    "        \n",
    "        while stable==False: \n",
    "        # Keep stirring and recording the pH until it stabilises as long as we have not passed a set max stir time.\n",
    "            \n",
    "            if len(pH_log) < 1: # only record the pH, can't take the derivative yet.\n",
    "                \n",
    "                pH_log.append(float(pH_meter.reading()[5:10]))\n",
    "                time_log.append((interval_t+2)*i) # time between intervals = interval_t + 2 due to communication with the pH meter.\n",
    "                i += 1 # increment the counter\n",
    "                time.sleep(interval_t) \n",
    "                \n",
    "            elif len(pH_log) <= min_stir_intervals: # stirring will take place for at least min_stir_intervals*(interval_t + 2) seconds.\n",
    "                \n",
    "                pH_log.append(float(pH_meter.reading()[5:10]))\n",
    "                time_log.append((interval_t+2)*i)\n",
    "                dpHdt_log.append((pH_log[i] - pH_log[i-1])/(time_log[i] - time_log[i-1])) # numercial differentiation dy/dx\n",
    "                i += 1\n",
    "                time.sleep(interval_t)\n",
    "                \n",
    "            else:\n",
    "                \n",
    "                pH_log.append(float(pH_meter.reading()[5:10]))\n",
    "                time_log.append((interval_t+2)*i)\n",
    "                dpHdt_log.append((pH_log[i] - pH_log[i-1])/(time_log[i] - time_log[i-1]))\n",
    "                \n",
    "                pH_stable_status = pH_stable_check_bool(pH_log, dpHdt_log, pH_dev, dpHdt_dev) # check whether the pH has reached steady state.\n",
    "                \n",
    "                stable_idx = detect_consecutive_true_index(pH_stable_status, n) # find the index where the pH has stabilised.\n",
    "                \n",
    "                if stable_idx == -1: # if there are insufficient consecutive stable readings\n",
    "                    \n",
    "                    pass # keep stirring until steady state or till max stir time has elapsed.\n",
    "                \n",
    "                else:\n",
    "                    \n",
    "                    pH_stable_idx = pH_log[stable_idx] # check the pH at the stable index.\n",
    "                    \n",
    "                    if abs(pH_stable_idx - pH_premix) < delta_initial: # Is it sufficiently away from the initial pH?\n",
    "                    # Some systems can be slow to respond and change pH. Don't want to stop stirring before the pH has even begun to change.\n",
    "                        \n",
    "                        init_change_idx = next((i for i, x in enumerate(pH_stable_status) if not x), len(pH_stable_status)-1) # find the index of the last True in the first set of Trues.\n",
    "                        \n",
    "                        # cut off the initial data before the pH begins to change so not to erroneously detect this again.\n",
    "                        pH_log    = pH_log[init_change_idx:]\n",
    "                        time_log  = time_log[init_change_idx:]\n",
    "                        dpHdt_log = dpHdt_log[init_change_idx:] \n",
    "                        i = 1 # reset the counter in this case otherwise will return index out of range error when indexing the lists which have been sliced.\n",
    "                    \n",
    "                    else:\n",
    "\n",
    "                        stable == True # stop stirring, steady state reached.\n",
    "                        break\n",
    "                        \n",
    "                i += 1\n",
    "                time.sleep(interval_t)\n",
    "                \n",
    "            time_elapsed = time.time() - start_t  # record the elapsed time from current time - start time  \n",
    "\n",
    "            if time_elapsed > max_stir_t:\n",
    "                break\n",
    "            else:\n",
    "                pass\n",
    "        \n",
    "        stirrer_washpump.stir_pump(stirrer_off, in_pump_off, out_pump_off) # turn off the stirrer.\n",
    "        \n",
    "        return time_elapsed\n",
    "        \n",
    "    initial_mix_t = 60 # mixing time (s) at the beginning of the titration before acid/base addition - fixed time.\n",
    "    \n",
    "    init_tit_LB = V_sample*init_LB_perc*10 # correct units this way (uL)\n",
    "    init_tit_UB = V_sample*init_UB_perc*10\n",
    "    \n",
    "    wait_for_positioning = 40 # wait time for the robot to reach the correct position (s)\n",
    "    wait_for_touchtip = 5 # wait for touch_tip to complete before stirring (s)\n",
    "    wait_for_equilibration = 25 # give the sample time to equilibriate after stirring before measuring pH on step 0 (s)\n",
    "    \n",
    "    def check_and_dispense(suggest_vol, vol_history, jar):\n",
    "        '''\n",
    "        This function checks that the volume to be dosed is within the min_disp and max_acid/base volumes\n",
    "        If not, it will accordingly adjust the volume to be dispensed to the relevant LB/UB.\n",
    "        And this function updates the cummulative volume appropriately. \n",
    "        \n",
    "        parameters: \n",
    "        suggested_vol = volume/uL that the ML algorithm suggests to add\n",
    "        vol_history   = list of cummulative volumes added - need the last one\n",
    "        jar           = which sample to dose into\n",
    "        \n",
    "        Note: a lot of the arguments called in this function are inherited from the outer function.\n",
    "        '''\n",
    "        \n",
    "        cum_vol = vol_history[-1] # cummulative volume/uL\n",
    "        \n",
    "        if suggest_vol > 0: # + ve vol = base, dispense from pump_1 (base)\n",
    "            # checks whether volume to be dispensed exceeds max_base - similar below for acid \n",
    "            vol_disp_floor = min(max_base, suggest_vol) \n",
    "            # checks whether volume to be dispensed is less than min. dispense\n",
    "            if vol_disp_floor < min_disp:\n",
    "                dose('base', min_disp, jar) # If so, dispense the min. volume instead\n",
    "            else:\n",
    "                dose('base', vol_disp_floor, jar)\n",
    "\n",
    "        else: # -ve vol = acid, dispense from pump_2 (acid)\n",
    "            vol_disp_floor = max(max_acid, suggest_vol)\n",
    "            if abs(vol_disp_floor) < min_disp:\n",
    "                dose('acid', min_disp, jar)\n",
    "            else:\n",
    "                dose('acid', -vol_disp_floor, jar)\n",
    "\n",
    "        # Append the dosed volume to the data taken into account checks whether min/max dispense was used instead.\n",
    "        if (suggest_vol == vol_disp_floor) and (abs(vol_disp_floor) >= min_disp):\n",
    "            cum_vol += suggest_vol\n",
    "        elif (suggest_vol == vol_disp_floor) and (abs(vol_disp_floor) < min_disp):\n",
    "            if suggest_vol > 0:\n",
    "                cum_vol += min_disp\n",
    "            if suggest_vol < 0:\n",
    "                cum_vol -= min_disp\n",
    "        else:\n",
    "            if suggest_vol > 0:\n",
    "                cum_vol += max_base\n",
    "            elif suggest_vol < 0: \n",
    "                cum_vol += max_acid \n",
    "        \n",
    "        return cum_vol\n",
    "    \n",
    "    buffer_region = 0 # initalise counter - will be activated in overshoot correction regime\n",
    "    \n",
    "    # Data structures initialisation\n",
    "    volume = [0] # List of dispensed volumes/ul (acid = -ve, base = + ve) \n",
    "    moles  = [0] # Amount of H+/OH- ions released/umol\n",
    "    mix_t  = 0\n",
    "    \n",
    "    \n",
    "    #########################################################\n",
    "    # Initial measurement - data point 0\n",
    "    #########################################################\n",
    "    \n",
    "    # Move platform to sample position\n",
    "    platform.to_position(coord=jar_pos[jar], z_to_safe=True) \n",
    "    time.sleep(wait_for_positioning)\n",
    "    \n",
    "    # Mix the sample, otherwise initial pH measurement might not be accurate.\n",
    "    stirrer_washpump.stir_pump(stirrer_on, in_pump_off, out_pump_off) # turn the stirrer on\n",
    "    time.sleep(initial_mix_t)\n",
    "    stirrer_washpump.stir_pump(stirrer_off, in_pump_off, out_pump_off) # turn off the stirrer.\n",
    "    \n",
    "    \n",
    "    time.sleep(wait_for_equilibration) \n",
    "    \n",
    "    initial_pH = float(pH_meter.reading()[5:10])   \n",
    "    pH = [initial_pH]\n",
    "    \n",
    "    # Save data into df for pH_tit_vol function to read\n",
    "    start_data = {'Net volume of acid(-)/base(+) (\\u03BCL)': volume,\n",
    "                  'Net moles of protons(-)/hydroxide(+) (\\u03BCmol)' : moles,\n",
    "                  'pH of Sample': np.asarray(pH),\n",
    "                  'Mixing time (s)': round(mix_t)}\n",
    "    \n",
    "    df = pd.DataFrame(start_data)\n",
    "    df.index.name = 'Step Number'\n",
    "    \n",
    "    # Is the sample already the correct pH?\n",
    "    if pH_target - pH_tol <= pH[0] <= pH_target + pH_tol:\n",
    "        pass # If so, no titration required, skip to end.\n",
    "    \n",
    "    else:\n",
    "        \n",
    "        #########################################################\n",
    "        # Data point 1 - random addition of acid/base\n",
    "        #########################################################\n",
    "    \n",
    "        # A small random amount of acid or base is added in the required direction\n",
    "    \n",
    "        if initial_pH < pH_target:\n",
    "            vol = round(random.uniform(init_tit_LB, init_tit_UB))\n",
    "            dose('base', vol, jar)\n",
    "        else:\n",
    "            vol = round(random.uniform(init_tit_LB, init_tit_UB))\n",
    "            dose('acid', vol, jar)\n",
    "            vol = - vol\n",
    "        \n",
    "        last_iter_vol = vol #last_iter_vol is a key variable. It's updated throughout as a record of vol added.\n",
    "        volume.append(last_iter_vol)\n",
    "        \n",
    "        # Mix the formulation\n",
    "        time.sleep(wait_for_touchtip) \n",
    "        pH_premix = float(pH_meter.reading()[5:10])\n",
    "        time.sleep(5)\n",
    "        mix_t = mix_sample(pH_dev, dpHdt_dev, max_stir_t, pH_premix, delta_initial)\n",
    "        \n",
    "        new_pH_reading = float(pH_meter.reading()[5:10])\n",
    "        pH.append(new_pH_reading)\n",
    "            \n",
    "        # Volume added needs to be converted to moles. For citric acid this is dependent on pH.\n",
    "        last_iter_mol = hydroxonium_hydroxide((volume[-1] - volume[-2]), titrant_A, A_conc, titrant_B, B_conc, new_pH_reading) # relevant pH is the current one the sample is at\n",
    "        net_mol = 0 \n",
    "        net_mol += last_iter_mol\n",
    "        moles.append(net_mol)\n",
    "        \n",
    "        # Save data        \n",
    "        add_data = {'Net volume of acid(-)/base(+) (\\u03BCL)': volume[-1:],\n",
    "              'Net moles of protons(-)/hydroxide(+) (\\u03BCmol)' : moles[-1:],\n",
    "              'pH of Sample': [np.asarray(pH)[-1]],\n",
    "              'Mixing time (s)': round(mix_t)}\n",
    "        \n",
    "        df_add = pd.DataFrame(add_data)\n",
    "        df_add.index.name = 'Step Number'\n",
    "        \n",
    "        df = pd.concat([df, df_add], ignore_index=True)\n",
    "        display(df)\n",
    "        \n",
    "        while pH[-1] > pH_target + pH_tol or pH[-1] < pH_target - pH_tol:\n",
    "\n",
    "        # Continue titrating till the sample reaches the target pH +/- the tolerance bounds\n",
    "            \n",
    "            if len(df.index) == 2:\n",
    "                #########################################################\n",
    "                # Data point 2 - titrant volume predicted by naive linear model\n",
    "                #########################################################\n",
    "                \n",
    "                # Call the data-driven strategy to suggest the next step\n",
    "                new_mol = pH_tit_vol(df, pH_target) # with just 2 initial data points, the code uses a naive linear prediction\n",
    "                \n",
    "                mol_disp = new_mol + (net_mol*-1) # compute the amount to be added, taking into account amount already added\n",
    "\n",
    "                # The naive model frequently overshoots if the initial pH is close to the plateau ends of the titration curve\n",
    "                # See above weighting function for how this code dampens that behaviour out.\n",
    "                mid_init_pHs = (df['pH of Sample'].iloc[-1] + df['pH of Sample'].iloc[-2])/2\n",
    "                \n",
    "                eq_pt = equivalence_point(titrant_A, titrant_B, A_conc, B_conc)\n",
    "                eq_pt = round(eq_pt, 1)\n",
    "                dampening_factor = w(mid_init_pHs, eq_pt, zeta)\n",
    "                \n",
    "                mol_disp = mol_disp*dampening_factor\n",
    "                \n",
    "                # Convert moles into the volume to be dispensed.\n",
    "                vol_disp = int(vol_acid_base(mol_disp, titrant_A, A_conc, titrant_B, B_conc, pH_target)) # Conversion for e.g., citric acid is dependent on pH. \n",
    "                # Prediction is to get to target pH, hence conversion based at this pH. \n",
    "                \n",
    "                # Calls function (which has some heavy logic) to check the amount to be dispensed, doses and updates cummulative volume\n",
    "                last_iter_vol = check_and_dispense(vol_disp, volume, jar)\n",
    "                volume.append(last_iter_vol)\n",
    "                \n",
    "                # Mix the formulation\n",
    "                time.sleep(wait_for_touchtip) \n",
    "                pH_premix = float(pH_meter.reading()[5:10])\n",
    "                time.sleep(5)\n",
    "                mix_t = mix_sample(pH_dev, dpHdt_dev, max_stir_t, pH_premix, delta_initial)\n",
    "\n",
    "                new_pH_reading = float(pH_meter.reading()[5:10])\n",
    "                pH.append(new_pH_reading)\n",
    "\n",
    "                last_iter_mol = hydroxonium_hydroxide((volume[-1] - volume[-2]), titrant_A, A_conc, titrant_B, B_conc, new_pH_reading)\n",
    "                net_mol += last_iter_mol\n",
    "                moles.append(net_mol)\n",
    "\n",
    "                add_data = {'Net volume of acid(-)/base(+) (\\u03BCL)': volume[-1:],\n",
    "                            'Net moles of protons(-)/hydroxide(+) (\\u03BCmol)' : moles[-1:],\n",
    "                            'pH of Sample': [np.asarray(pH)[-1]],\n",
    "                            'Mixing time (s)': round(mix_t)}\n",
    "                \n",
    "                df_add = pd.DataFrame(add_data)\n",
    "                df_add.index.name = 'Step Number'\n",
    "\n",
    "                df = pd.concat([df, df_add], ignore_index=True)\n",
    "                display(df)\n",
    "            \n",
    "            else:\n",
    "                \n",
    "                #########################################################\n",
    "                # Data point 3 ... n - rest of the titration\n",
    "                #########################################################\n",
    "                \n",
    "                # If we are working with a weak-strong acid-base pair or vice versa then if the target pH is overshot, we will need to correct using the opposite titrant.\n",
    "                # This will now form the recipe for creating a buffer solution resistant to pH change.\n",
    "                # In this sitatuion we can no longer reliably calculate the effective addition of H+/OH- in the system so the GP modelling strategy fails.\n",
    "                # The code reverts to a different strategy in the \"Overshoot Correction Regime\".\n",
    "                \n",
    "                delta_V1 = volume[-1] - volume[-2] \n",
    "                delta_V2 = volume[-2] - volume[-3]\n",
    "                \n",
    "                if ((delta_V1 >= 0 and delta_V2 >= 0) or (delta_V1 < 0 and delta_V2 < 0)) and buffer_region==0:\n",
    "                    \n",
    "                    # Proceed as normal with a Gaussian Process surrogate model for the titration curve\n",
    "                    # A completely exploitative acquisition function just looks for the amount of titrant required to reach the target pH.\n",
    "                    \n",
    "                    new_mol = pH_tit_vol(df, pH_target)\n",
    "\n",
    "                    mol_disp = new_mol + (net_mol*-1)\n",
    "                    vol_disp = int(vol_acid_base(mol_disp, titrant_A, A_conc, titrant_B, B_conc, pH_target)) \n",
    "\n",
    "                    last_iter_vol = check_and_dispense(vol_disp, volume, jar)\n",
    "                    volume.append(last_iter_vol)\n",
    "\n",
    "                    # Mix the formulation\n",
    "                    time.sleep(wait_for_touchtip)\n",
    "                    pH_premix = float(pH_meter.reading()[5:10])\n",
    "                    time.sleep(5)\n",
    "                    mix_t = mix_sample(pH_dev, dpHdt_dev, max_stir_t, pH_premix, delta_initial)\n",
    "\n",
    "                    new_pH_reading = float(pH_meter.reading()[5:10])\n",
    "                    pH.append(new_pH_reading)\n",
    "\n",
    "                    last_iter_mol = hydroxonium_hydroxide((volume[-1] - volume[-2]), titrant_A, A_conc, titrant_B, B_conc, new_pH_reading)\n",
    "                    net_mol += last_iter_mol\n",
    "                    moles.append(net_mol)\n",
    "\n",
    "                    add_data = {'Net volume of acid(-)/base(+) (\\u03BCL)': volume[-1:],\n",
    "                                'Net moles of protons(-)/hydroxide(+) (\\u03BCmol)' : moles[-1:],\n",
    "                                'pH of Sample': [np.asarray(pH)[-1]],\n",
    "                                'Mixing time (s)': round(mix_t)}\n",
    "\n",
    "                    df_add = pd.DataFrame(add_data)\n",
    "                    df_add.index.name = 'Step Number'\n",
    "\n",
    "                    df = pd.concat([df, df_add], ignore_index=True)\n",
    "                    display(df)\n",
    "                    \n",
    "                elif acid_strength[titrant_A] == \"Strong\" and base_strength[titrant_B] == \"Strong\": # if we are working with a strong-strong acid-base pair we also don't need to worry - proceed as usual.\n",
    "                    \n",
    "                    new_mol = pH_tit_vol(df, pH_target)\n",
    "\n",
    "                    mol_disp = new_mol + (net_mol*-1)\n",
    "                    vol_disp = int(vol_acid_base(mol_disp, titrant_A, A_conc, titrant_B, B_conc, pH_target)) \n",
    "\n",
    "                    last_iter_vol = check_and_dispense(vol_disp, volume, jar)\n",
    "                    volume.append(last_iter_vol)\n",
    "\n",
    "                    # Mix the formulation\n",
    "                    time.sleep(wait_for_touchtip)\n",
    "                    pH_premix = float(pH_meter.reading()[5:10])\n",
    "                    time.sleep(5)\n",
    "                    mix_t = mix_sample(pH_dev, dpHdt_dev, max_stir_t, pH_premix, delta_initial)\n",
    "\n",
    "                    new_pH_reading = float(pH_meter.reading()[5:10])\n",
    "                    pH.append(new_pH_reading)\n",
    "\n",
    "                    last_iter_mol = hydroxonium_hydroxide((volume[-1] - volume[-2]), titrant_A, A_conc, titrant_B, B_conc, new_pH_reading)\n",
    "                    net_mol += last_iter_mol\n",
    "                    moles.append(net_mol)\n",
    "\n",
    "                    add_data = {'Net volume of acid(-)/base(+) (\\u03BCL)': volume[-1:],\n",
    "                                'Net moles of protons(-)/hydroxide(+) (\\u03BCmol)' : moles[-1:],\n",
    "                                'pH of Sample': [np.asarray(pH)[-1]],\n",
    "                                'Mixing time (s)': round(mix_t)}\n",
    "\n",
    "                    df_add = pd.DataFrame(add_data)\n",
    "                    df_add.index.name = 'Step Number'\n",
    "\n",
    "                    df = pd.concat([df, df_add], ignore_index=True)\n",
    "                    display(df)\n",
    "                    \n",
    "                else:\n",
    "                    \n",
    "                    print('Overshooting the target pH has resulted in a complex buffer being formed.')\n",
    "                    print('The titration algorithm is now pivoting to a linear spline interpolation method.')\n",
    "                    \n",
    "                    delta_pH = df['pH of Sample'].iloc[-1] - df['pH of Sample'].iloc[-2]\n",
    "                    beta     = delta_V1/delta_pH\n",
    "                    pH_to_target = df['pH of Sample'].iloc[-1] - pH_target\n",
    "                    \n",
    "                    vol_disp = int(-mu*beta*pH_to_target)\n",
    "                    \n",
    "                    last_iter_vol = check_and_dispense(vol_disp, volume, jar)\n",
    "                    volume.append(last_iter_vol)\n",
    "                    \n",
    "                    buffer_region += 1 \n",
    "\n",
    "                    # Mix the formulation\n",
    "                    time.sleep(wait_for_touchtip) \n",
    "                    pH_premix = float(pH_meter.reading()[5:10])\n",
    "                    time.sleep(5)\n",
    "                    mix_t = mix_sample(pH_dev, dpHdt_dev, max_stir_t, pH_premix, delta_initial)\n",
    "\n",
    "                    new_pH_reading = float(pH_meter.reading()[5:10])\n",
    "                    pH.append(new_pH_reading)\n",
    "\n",
    "                    last_iter_mol = hydroxonium_hydroxide((volume[-1] - volume[-2]), titrant_A, A_conc, titrant_B, B_conc, new_pH_reading)\n",
    "                    net_mol += last_iter_mol\n",
    "                    moles.append(net_mol)\n",
    "\n",
    "                    add_data = {'Net volume of acid(-)/base(+) (\\u03BCL)': volume[-1:],\n",
    "                                'Net moles of protons(-)/hydroxide(+) (\\u03BCmol)' : moles[-1:],\n",
    "                                'pH of Sample': [np.asarray(pH)[-1]],\n",
    "                                'Mixing time (s)': round(mix_t)}\n",
    "                    \n",
    "                    df_add = pd.DataFrame(add_data)\n",
    "                    df_add.index.name = 'Step Number'\n",
    "\n",
    "                    df = pd.concat([df, df_add], ignore_index=True)\n",
    "                    display(df)\n",
    "                \n",
    "    print(\"SAMPLE WITHIN TARGET pH RANGE! :)\")\n",
    "    \n",
    "    return df"
   ]
  },
  {
   "cell_type": "code",
   "execution_count": 33,
   "id": "431af833",
   "metadata": {
    "pycharm": {
     "name": "#%%\n"
    }
   },
   "outputs": [],
   "source": [
    "def run_pHAdjustment(jar, pH_dev, dpHdt_dev, titrant_A, \n",
    "                     titrant_B, A_conc, B_conc, V_sample,\n",
    "                     pH_target, save_name, save_data=True):\n",
    "    '''\n",
    "    Function to run the titration protocol. See argument definitions above.\n",
    "    '''\n",
    "    titration_data = pH_adj(jar, pH_dev, dpHdt_dev, titrant_A, titrant_B, A_conc, B_conc, V_sample, pH_target)\n",
    "    \n",
    "    if save_data == True:\n",
    "        titration_data.to_csv(\"titration_data/\" + save_name + \".csv\")\n",
    "    return print(\"Titration complete\")"
   ]
  },
  {
   "cell_type": "code",
   "execution_count": 34,
   "id": "6937b9ae",
   "metadata": {},
   "outputs": [
    {
     "name": "stdout",
     "output_type": "stream",
     "text": [
      "Dispensing 72 uL acid is complete\n"
     ]
    },
    {
     "data": {
      "text/html": [
       "<div>\n",
       "<style scoped>\n",
       "    .dataframe tbody tr th:only-of-type {\n",
       "        vertical-align: middle;\n",
       "    }\n",
       "\n",
       "    .dataframe tbody tr th {\n",
       "        vertical-align: top;\n",
       "    }\n",
       "\n",
       "    .dataframe thead th {\n",
       "        text-align: right;\n",
       "    }\n",
       "</style>\n",
       "<table border=\"1\" class=\"dataframe\">\n",
       "  <thead>\n",
       "    <tr style=\"text-align: right;\">\n",
       "      <th></th>\n",
       "      <th>Net volume of acid(-)/base(+) (μL)</th>\n",
       "      <th>Net moles of protons(-)/hydroxide(+) (μmol)</th>\n",
       "      <th>pH of Sample</th>\n",
       "      <th>Mixing time (s)</th>\n",
       "    </tr>\n",
       "  </thead>\n",
       "  <tbody>\n",
       "    <tr>\n",
       "      <th>0</th>\n",
       "      <td>0</td>\n",
       "      <td>0.000000</td>\n",
       "      <td>7.65</td>\n",
       "      <td>0</td>\n",
       "    </tr>\n",
       "    <tr>\n",
       "      <th>1</th>\n",
       "      <td>-72</td>\n",
       "      <td>-102.100133</td>\n",
       "      <td>7.11</td>\n",
       "      <td>41</td>\n",
       "    </tr>\n",
       "  </tbody>\n",
       "</table>\n",
       "</div>"
      ],
      "text/plain": [
       "   Net volume of acid(-)/base(+) (μL)  \\\n",
       "0                                   0   \n",
       "1                                 -72   \n",
       "\n",
       "   Net moles of protons(-)/hydroxide(+) (μmol)  pH of Sample  Mixing time (s)  \n",
       "0                                     0.000000          7.65                0  \n",
       "1                                  -102.100133          7.11               41  "
      ]
     },
     "metadata": {},
     "output_type": "display_data"
    },
    {
     "data": {
      "image/png": "[encoded data removed]",
      "text/plain": [
       "<Figure size 432x288 with 1 Axes>"
      ]
     },
     "metadata": {
      "needs_background": "light"
     },
     "output_type": "display_data"
    },
    {
     "name": "stdout",
     "output_type": "stream",
     "text": [
      "Predicted moles of H+/OH- ions to reach target (pH = 5.8): -338 umol.\n",
      "Dispensing 137 uL acid is complete\n"
     ]
    },
    {
     "data": {
      "text/html": [
       "<div>\n",
       "<style scoped>\n",
       "    .dataframe tbody tr th:only-of-type {\n",
       "        vertical-align: middle;\n",
       "    }\n",
       "\n",
       "    .dataframe tbody tr th {\n",
       "        vertical-align: top;\n",
       "    }\n",
       "\n",
       "    .dataframe thead th {\n",
       "        text-align: right;\n",
       "    }\n",
       "</style>\n",
       "<table border=\"1\" class=\"dataframe\">\n",
       "  <thead>\n",
       "    <tr style=\"text-align: right;\">\n",
       "      <th></th>\n",
       "      <th>Net volume of acid(-)/base(+) (μL)</th>\n",
       "      <th>Net moles of protons(-)/hydroxide(+) (μmol)</th>\n",
       "      <th>pH of Sample</th>\n",
       "      <th>Mixing time (s)</th>\n",
       "    </tr>\n",
       "  </thead>\n",
       "  <tbody>\n",
       "    <tr>\n",
       "      <th>0</th>\n",
       "      <td>0</td>\n",
       "      <td>0.000000</td>\n",
       "      <td>7.65</td>\n",
       "      <td>0</td>\n",
       "    </tr>\n",
       "    <tr>\n",
       "      <th>1</th>\n",
       "      <td>-72</td>\n",
       "      <td>-102.100133</td>\n",
       "      <td>7.11</td>\n",
       "      <td>41</td>\n",
       "    </tr>\n",
       "    <tr>\n",
       "      <th>2</th>\n",
       "      <td>-209</td>\n",
       "      <td>-273.956170</td>\n",
       "      <td>6.44</td>\n",
       "      <td>52</td>\n",
       "    </tr>\n",
       "  </tbody>\n",
       "</table>\n",
       "</div>"
      ],
      "text/plain": [
       "   Net volume of acid(-)/base(+) (μL)  \\\n",
       "0                                   0   \n",
       "1                                 -72   \n",
       "2                                -209   \n",
       "\n",
       "   Net moles of protons(-)/hydroxide(+) (μmol)  pH of Sample  Mixing time (s)  \n",
       "0                                     0.000000          7.65                0  \n",
       "1                                  -102.100133          7.11               41  \n",
       "2                                  -273.956170          6.44               52  "
      ]
     },
     "metadata": {},
     "output_type": "display_data"
    },
    {
     "data": {
      "image/png": "[encoded data removed]",
      "text/plain": [
       "<Figure size 432x288 with 1 Axes>"
      ]
     },
     "metadata": {
      "needs_background": "light"
     },
     "output_type": "display_data"
    },
    {
     "name": "stdout",
     "output_type": "stream",
     "text": [
      "Predicted moles of H+/OH- ions to reach target (pH = 5.8): -492 umol.\n",
      "Dispensing 205 uL acid is complete\n"
     ]
    },
    {
     "data": {
      "text/html": [
       "<div>\n",
       "<style scoped>\n",
       "    .dataframe tbody tr th:only-of-type {\n",
       "        vertical-align: middle;\n",
       "    }\n",
       "\n",
       "    .dataframe tbody tr th {\n",
       "        vertical-align: top;\n",
       "    }\n",
       "\n",
       "    .dataframe thead th {\n",
       "        text-align: right;\n",
       "    }\n",
       "</style>\n",
       "<table border=\"1\" class=\"dataframe\">\n",
       "  <thead>\n",
       "    <tr style=\"text-align: right;\">\n",
       "      <th></th>\n",
       "      <th>Net volume of acid(-)/base(+) (μL)</th>\n",
       "      <th>Net moles of protons(-)/hydroxide(+) (μmol)</th>\n",
       "      <th>pH of Sample</th>\n",
       "      <th>Mixing time (s)</th>\n",
       "    </tr>\n",
       "  </thead>\n",
       "  <tbody>\n",
       "    <tr>\n",
       "      <th>0</th>\n",
       "      <td>0</td>\n",
       "      <td>0.000000</td>\n",
       "      <td>7.650</td>\n",
       "      <td>0</td>\n",
       "    </tr>\n",
       "    <tr>\n",
       "      <th>1</th>\n",
       "      <td>-72</td>\n",
       "      <td>-102.100133</td>\n",
       "      <td>7.110</td>\n",
       "      <td>41</td>\n",
       "    </tr>\n",
       "    <tr>\n",
       "      <th>2</th>\n",
       "      <td>-209</td>\n",
       "      <td>-273.956170</td>\n",
       "      <td>6.440</td>\n",
       "      <td>52</td>\n",
       "    </tr>\n",
       "    <tr>\n",
       "      <th>3</th>\n",
       "      <td>-414</td>\n",
       "      <td>-495.994687</td>\n",
       "      <td>5.885</td>\n",
       "      <td>46</td>\n",
       "    </tr>\n",
       "  </tbody>\n",
       "</table>\n",
       "</div>"
      ],
      "text/plain": [
       "   Net volume of acid(-)/base(+) (μL)  \\\n",
       "0                                   0   \n",
       "1                                 -72   \n",
       "2                                -209   \n",
       "3                                -414   \n",
       "\n",
       "   Net moles of protons(-)/hydroxide(+) (μmol)  pH of Sample  Mixing time (s)  \n",
       "0                                     0.000000         7.650                0  \n",
       "1                                  -102.100133         7.110               41  \n",
       "2                                  -273.956170         6.440               52  \n",
       "3                                  -495.994687         5.885               46  "
      ]
     },
     "metadata": {},
     "output_type": "display_data"
    },
    {
     "name": "stdout",
     "output_type": "stream",
     "text": [
      "SAMPLE WITHIN TARGET pH RANGE! :)\n",
      "Titration complete\n"
     ]
    }
   ],
   "source": [
    "run_pHAdjustment(jar='A1_1', pH_dev=0.02, dpHdt_dev=0.0025, titrant_A=\"Citric acid\", titrant_B=\"Sodium hydroxide\",\n",
    "                 A_conc=0.5, B_conc=0.5, V_sample=10, pH_target=5.8, save_name='S533_26-05-2023_pH5.8', save_data=True)"
   ]
  },
  {
   "cell_type": "markdown",
   "id": "ebafd95b",
   "metadata": {
    "pycharm": {
     "name": "#%% md\n"
    }
   },
   "source": [
    "# 3. Platform Operation\n"
   ]
  },
  {
   "cell_type": "markdown",
   "id": "fa59d311",
   "metadata": {
    "pycharm": {
     "name": "#%% md\n"
    }
   },
   "source": [
    "### Titrating a batch of samples"
   ]
  },
  {
   "cell_type": "code",
   "execution_count": 36,
   "id": "74bb5f80",
   "metadata": {
    "pycharm": {
     "name": "#%%\n"
    }
   },
   "outputs": [],
   "source": [
    "def batch_titration(samples, samples_loc, pH_target, pH_dev, dpHdt_dev):\n",
    "    '''\n",
    "    samples = list of samples to be titrated, samples is a list of sample names, e.g., ['S1', 'S2', ... , 'S6']\n",
    "    samples_loc = dictionary of jar locations to the corresponding sample names provided in sample list\n",
    "    '''\n",
    "    for i in samples:\n",
    "        jar = samples_loc[i]\n",
    "        save_name = i + '_' + datetime.today().strftime('%d-%m-%Y') + '_pH' + str(pH_target)\n",
    "        run_pHAdjustment(jar, pH_dev, dpHdt_dev, titrant_A=\"Citric acid\", titrant_B=\"Sodium hydroxide\",\n",
    "                 A_conc=0.5, B_conc=0.5, V_sample=10, pH_target=pH_target, save_name=save_name, save_data=True)\n",
    "        channel_stirrer(jar)\n",
    "        wash()\n",
    "    platform.home()"
   ]
  },
  {
   "cell_type": "code",
   "execution_count": 37,
   "id": "f95ce03d",
   "metadata": {
    "pycharm": {
     "name": "#%%\n"
    }
   },
   "outputs": [],
   "source": [
    "samples = ['S534','S532','S523','S524'] # names of samples to be titrated\n",
    "\n",
    "samples_loc = {\n",
    "    'S534': 'A1_1',\n",
    "    'S532': 'A2_1',\n",
    "    'S523': 'A3_1',\n",
    "    'S524': 'B3_1'\n",
    "}"
   ]
  },
  {
   "cell_type": "code",
   "execution_count": 38,
   "id": "1d3e94c4",
   "metadata": {
    "pycharm": {
     "name": "#%%\n"
    },
    "scrolled": false
   },
   "outputs": [
    {
     "name": "stdout",
     "output_type": "stream",
     "text": [
      "Dispensing 62 uL acid is complete\n"
     ]
    },
    {
     "data": {
      "text/html": [
       "<div>\n",
       "<style scoped>\n",
       "    .dataframe tbody tr th:only-of-type {\n",
       "        vertical-align: middle;\n",
       "    }\n",
       "\n",
       "    .dataframe tbody tr th {\n",
       "        vertical-align: top;\n",
       "    }\n",
       "\n",
       "    .dataframe thead th {\n",
       "        text-align: right;\n",
       "    }\n",
       "</style>\n",
       "<table border=\"1\" class=\"dataframe\">\n",
       "  <thead>\n",
       "    <tr style=\"text-align: right;\">\n",
       "      <th></th>\n",
       "      <th>Net volume of acid(-)/base(+) (μL)</th>\n",
       "      <th>Net moles of protons(-)/hydroxide(+) (μmol)</th>\n",
       "      <th>pH of Sample</th>\n",
       "      <th>Mixing time (s)</th>\n",
       "    </tr>\n",
       "  </thead>\n",
       "  <tbody>\n",
       "    <tr>\n",
       "      <th>0</th>\n",
       "      <td>0</td>\n",
       "      <td>0.000000</td>\n",
       "      <td>6.80</td>\n",
       "      <td>0</td>\n",
       "    </tr>\n",
       "    <tr>\n",
       "      <th>1</th>\n",
       "      <td>-62</td>\n",
       "      <td>-77.966746</td>\n",
       "      <td>6.45</td>\n",
       "      <td>36</td>\n",
       "    </tr>\n",
       "  </tbody>\n",
       "</table>\n",
       "</div>"
      ],
      "text/plain": [
       "   Net volume of acid(-)/base(+) (μL)  \\\n",
       "0                                   0   \n",
       "1                                 -62   \n",
       "\n",
       "   Net moles of protons(-)/hydroxide(+) (μmol)  pH of Sample  Mixing time (s)  \n",
       "0                                     0.000000          6.80                0  \n",
       "1                                   -77.966746          6.45               36  "
      ]
     },
     "metadata": {},
     "output_type": "display_data"
    },
    {
     "data": {
      "image/png": "[encoded data removed]",
      "text/plain": [
       "<Figure size 432x288 with 1 Axes>"
      ]
     },
     "metadata": {
      "needs_background": "light"
     },
     "output_type": "display_data"
    },
    {
     "name": "stdout",
     "output_type": "stream",
     "text": [
      "Predicted moles of H+/OH- ions to reach target (pH = 5.8): -209 umol.\n",
      "Dispensing 70 uL acid is complete\n"
     ]
    },
    {
     "data": {
      "text/html": [
       "<div>\n",
       "<style scoped>\n",
       "    .dataframe tbody tr th:only-of-type {\n",
       "        vertical-align: middle;\n",
       "    }\n",
       "\n",
       "    .dataframe tbody tr th {\n",
       "        vertical-align: top;\n",
       "    }\n",
       "\n",
       "    .dataframe thead th {\n",
       "        text-align: right;\n",
       "    }\n",
       "</style>\n",
       "<table border=\"1\" class=\"dataframe\">\n",
       "  <thead>\n",
       "    <tr style=\"text-align: right;\">\n",
       "      <th></th>\n",
       "      <th>Net volume of acid(-)/base(+) (μL)</th>\n",
       "      <th>Net moles of protons(-)/hydroxide(+) (μmol)</th>\n",
       "      <th>pH of Sample</th>\n",
       "      <th>Mixing time (s)</th>\n",
       "    </tr>\n",
       "  </thead>\n",
       "  <tbody>\n",
       "    <tr>\n",
       "      <th>0</th>\n",
       "      <td>0</td>\n",
       "      <td>0.000000</td>\n",
       "      <td>6.800</td>\n",
       "      <td>0</td>\n",
       "    </tr>\n",
       "    <tr>\n",
       "      <th>1</th>\n",
       "      <td>-62</td>\n",
       "      <td>-77.966746</td>\n",
       "      <td>6.450</td>\n",
       "      <td>36</td>\n",
       "    </tr>\n",
       "    <tr>\n",
       "      <th>2</th>\n",
       "      <td>-132</td>\n",
       "      <td>-159.694872</td>\n",
       "      <td>6.165</td>\n",
       "      <td>31</td>\n",
       "    </tr>\n",
       "  </tbody>\n",
       "</table>\n",
       "</div>"
      ],
      "text/plain": [
       "   Net volume of acid(-)/base(+) (μL)  \\\n",
       "0                                   0   \n",
       "1                                 -62   \n",
       "2                                -132   \n",
       "\n",
       "   Net moles of protons(-)/hydroxide(+) (μmol)  pH of Sample  Mixing time (s)  \n",
       "0                                     0.000000         6.800                0  \n",
       "1                                   -77.966746         6.450               36  \n",
       "2                                  -159.694872         6.165               31  "
      ]
     },
     "metadata": {},
     "output_type": "display_data"
    },
    {
     "data": {
      "image/png": "[encoded data removed]",
      "text/plain": [
       "<Figure size 432x288 with 1 Axes>"
      ]
     },
     "metadata": {
      "needs_background": "light"
     },
     "output_type": "display_data"
    },
    {
     "name": "stdout",
     "output_type": "stream",
     "text": [
      "Predicted moles of H+/OH- ions to reach target (pH = 5.8): -299 umol.\n",
      "Dispensing 131 uL acid is complete\n"
     ]
    },
    {
     "data": {
      "text/html": [
       "<div>\n",
       "<style scoped>\n",
       "    .dataframe tbody tr th:only-of-type {\n",
       "        vertical-align: middle;\n",
       "    }\n",
       "\n",
       "    .dataframe tbody tr th {\n",
       "        vertical-align: top;\n",
       "    }\n",
       "\n",
       "    .dataframe thead th {\n",
       "        text-align: right;\n",
       "    }\n",
       "</style>\n",
       "<table border=\"1\" class=\"dataframe\">\n",
       "  <thead>\n",
       "    <tr style=\"text-align: right;\">\n",
       "      <th></th>\n",
       "      <th>Net volume of acid(-)/base(+) (μL)</th>\n",
       "      <th>Net moles of protons(-)/hydroxide(+) (μmol)</th>\n",
       "      <th>pH of Sample</th>\n",
       "      <th>Mixing time (s)</th>\n",
       "    </tr>\n",
       "  </thead>\n",
       "  <tbody>\n",
       "    <tr>\n",
       "      <th>0</th>\n",
       "      <td>0</td>\n",
       "      <td>0.000000</td>\n",
       "      <td>6.800</td>\n",
       "      <td>0</td>\n",
       "    </tr>\n",
       "    <tr>\n",
       "      <th>1</th>\n",
       "      <td>-62</td>\n",
       "      <td>-77.966746</td>\n",
       "      <td>6.450</td>\n",
       "      <td>36</td>\n",
       "    </tr>\n",
       "    <tr>\n",
       "      <th>2</th>\n",
       "      <td>-132</td>\n",
       "      <td>-159.694872</td>\n",
       "      <td>6.165</td>\n",
       "      <td>31</td>\n",
       "    </tr>\n",
       "    <tr>\n",
       "      <th>3</th>\n",
       "      <td>-263</td>\n",
       "      <td>-298.421380</td>\n",
       "      <td>5.800</td>\n",
       "      <td>31</td>\n",
       "    </tr>\n",
       "  </tbody>\n",
       "</table>\n",
       "</div>"
      ],
      "text/plain": [
       "   Net volume of acid(-)/base(+) (μL)  \\\n",
       "0                                   0   \n",
       "1                                 -62   \n",
       "2                                -132   \n",
       "3                                -263   \n",
       "\n",
       "   Net moles of protons(-)/hydroxide(+) (μmol)  pH of Sample  Mixing time (s)  \n",
       "0                                     0.000000         6.800                0  \n",
       "1                                   -77.966746         6.450               36  \n",
       "2                                  -159.694872         6.165               31  \n",
       "3                                  -298.421380         5.800               31  "
      ]
     },
     "metadata": {},
     "output_type": "display_data"
    },
    {
     "name": "stdout",
     "output_type": "stream",
     "text": [
      "SAMPLE WITHIN TARGET pH RANGE! :)\n",
      "Titration complete\n",
      "Washing complete\n",
      "Dispensing 93 uL acid is complete\n"
     ]
    },
    {
     "data": {
      "text/html": [
       "<div>\n",
       "<style scoped>\n",
       "    .dataframe tbody tr th:only-of-type {\n",
       "        vertical-align: middle;\n",
       "    }\n",
       "\n",
       "    .dataframe tbody tr th {\n",
       "        vertical-align: top;\n",
       "    }\n",
       "\n",
       "    .dataframe thead th {\n",
       "        text-align: right;\n",
       "    }\n",
       "</style>\n",
       "<table border=\"1\" class=\"dataframe\">\n",
       "  <thead>\n",
       "    <tr style=\"text-align: right;\">\n",
       "      <th></th>\n",
       "      <th>Net volume of acid(-)/base(+) (μL)</th>\n",
       "      <th>Net moles of protons(-)/hydroxide(+) (μmol)</th>\n",
       "      <th>pH of Sample</th>\n",
       "      <th>Mixing time (s)</th>\n",
       "    </tr>\n",
       "  </thead>\n",
       "  <tbody>\n",
       "    <tr>\n",
       "      <th>0</th>\n",
       "      <td>0</td>\n",
       "      <td>0.000000</td>\n",
       "      <td>9.965</td>\n",
       "      <td>0</td>\n",
       "    </tr>\n",
       "    <tr>\n",
       "      <th>1</th>\n",
       "      <td>-93</td>\n",
       "      <td>-130.013719</td>\n",
       "      <td>6.995</td>\n",
       "      <td>41</td>\n",
       "    </tr>\n",
       "  </tbody>\n",
       "</table>\n",
       "</div>"
      ],
      "text/plain": [
       "   Net volume of acid(-)/base(+) (μL)  \\\n",
       "0                                   0   \n",
       "1                                 -93   \n",
       "\n",
       "   Net moles of protons(-)/hydroxide(+) (μmol)  pH of Sample  Mixing time (s)  \n",
       "0                                     0.000000         9.965                0  \n",
       "1                                  -130.013719         6.995               41  "
      ]
     },
     "metadata": {},
     "output_type": "display_data"
    },
    {
     "data": {
      "image/png": "[encoded data removed]",
      "text/plain": [
       "<Figure size 432x288 with 1 Axes>"
      ]
     },
     "metadata": {
      "needs_background": "light"
     },
     "output_type": "display_data"
    },
    {
     "name": "stdout",
     "output_type": "stream",
     "text": [
      "Predicted moles of H+/OH- ions to reach target (pH = 5.8): -179 umol.\n",
      "Dispensing 31 uL acid is complete\n"
     ]
    },
    {
     "data": {
      "text/html": [
       "<div>\n",
       "<style scoped>\n",
       "    .dataframe tbody tr th:only-of-type {\n",
       "        vertical-align: middle;\n",
       "    }\n",
       "\n",
       "    .dataframe tbody tr th {\n",
       "        vertical-align: top;\n",
       "    }\n",
       "\n",
       "    .dataframe thead th {\n",
       "        text-align: right;\n",
       "    }\n",
       "</style>\n",
       "<table border=\"1\" class=\"dataframe\">\n",
       "  <thead>\n",
       "    <tr style=\"text-align: right;\">\n",
       "      <th></th>\n",
       "      <th>Net volume of acid(-)/base(+) (μL)</th>\n",
       "      <th>Net moles of protons(-)/hydroxide(+) (μmol)</th>\n",
       "      <th>pH of Sample</th>\n",
       "      <th>Mixing time (s)</th>\n",
       "    </tr>\n",
       "  </thead>\n",
       "  <tbody>\n",
       "    <tr>\n",
       "      <th>0</th>\n",
       "      <td>0</td>\n",
       "      <td>0.000000</td>\n",
       "      <td>9.965</td>\n",
       "      <td>0</td>\n",
       "    </tr>\n",
       "    <tr>\n",
       "      <th>1</th>\n",
       "      <td>-93</td>\n",
       "      <td>-130.013719</td>\n",
       "      <td>6.995</td>\n",
       "      <td>41</td>\n",
       "    </tr>\n",
       "    <tr>\n",
       "      <th>2</th>\n",
       "      <td>-124</td>\n",
       "      <td>-171.418750</td>\n",
       "      <td>6.720</td>\n",
       "      <td>36</td>\n",
       "    </tr>\n",
       "  </tbody>\n",
       "</table>\n",
       "</div>"
      ],
      "text/plain": [
       "   Net volume of acid(-)/base(+) (μL)  \\\n",
       "0                                   0   \n",
       "1                                 -93   \n",
       "2                                -124   \n",
       "\n",
       "   Net moles of protons(-)/hydroxide(+) (μmol)  pH of Sample  Mixing time (s)  \n",
       "0                                     0.000000         9.965                0  \n",
       "1                                  -130.013719         6.995               41  \n",
       "2                                  -171.418750         6.720               36  "
      ]
     },
     "metadata": {},
     "output_type": "display_data"
    },
    {
     "data": {
      "image/png": "[encoded data removed]",
      "text/plain": [
       "<Figure size 432x288 with 1 Axes>"
      ]
     },
     "metadata": {
      "needs_background": "light"
     },
     "output_type": "display_data"
    },
    {
     "name": "stdout",
     "output_type": "stream",
     "text": [
      "Predicted moles of H+/OH- ions to reach target (pH = 5.8): -235 umol.\n",
      "Dispensing 60 uL acid is complete\n"
     ]
    },
    {
     "data": {
      "text/html": [
       "<div>\n",
       "<style scoped>\n",
       "    .dataframe tbody tr th:only-of-type {\n",
       "        vertical-align: middle;\n",
       "    }\n",
       "\n",
       "    .dataframe tbody tr th {\n",
       "        vertical-align: top;\n",
       "    }\n",
       "\n",
       "    .dataframe thead th {\n",
       "        text-align: right;\n",
       "    }\n",
       "</style>\n",
       "<table border=\"1\" class=\"dataframe\">\n",
       "  <thead>\n",
       "    <tr style=\"text-align: right;\">\n",
       "      <th></th>\n",
       "      <th>Net volume of acid(-)/base(+) (μL)</th>\n",
       "      <th>Net moles of protons(-)/hydroxide(+) (μmol)</th>\n",
       "      <th>pH of Sample</th>\n",
       "      <th>Mixing time (s)</th>\n",
       "    </tr>\n",
       "  </thead>\n",
       "  <tbody>\n",
       "    <tr>\n",
       "      <th>0</th>\n",
       "      <td>0</td>\n",
       "      <td>0.000000</td>\n",
       "      <td>9.965</td>\n",
       "      <td>0</td>\n",
       "    </tr>\n",
       "    <tr>\n",
       "      <th>1</th>\n",
       "      <td>-93</td>\n",
       "      <td>-130.013719</td>\n",
       "      <td>6.995</td>\n",
       "      <td>41</td>\n",
       "    </tr>\n",
       "    <tr>\n",
       "      <th>2</th>\n",
       "      <td>-124</td>\n",
       "      <td>-171.418750</td>\n",
       "      <td>6.720</td>\n",
       "      <td>36</td>\n",
       "    </tr>\n",
       "    <tr>\n",
       "      <th>3</th>\n",
       "      <td>-184</td>\n",
       "      <td>-245.650692</td>\n",
       "      <td>6.385</td>\n",
       "      <td>36</td>\n",
       "    </tr>\n",
       "  </tbody>\n",
       "</table>\n",
       "</div>"
      ],
      "text/plain": [
       "   Net volume of acid(-)/base(+) (μL)  \\\n",
       "0                                   0   \n",
       "1                                 -93   \n",
       "2                                -124   \n",
       "3                                -184   \n",
       "\n",
       "   Net moles of protons(-)/hydroxide(+) (μmol)  pH of Sample  Mixing time (s)  \n",
       "0                                     0.000000         9.965                0  \n",
       "1                                  -130.013719         6.995               41  \n",
       "2                                  -171.418750         6.720               36  \n",
       "3                                  -245.650692         6.385               36  "
      ]
     },
     "metadata": {},
     "output_type": "display_data"
    },
    {
     "data": {
      "image/png": "[encoded data removed]",
      "text/plain": [
       "<Figure size 432x288 with 1 Axes>"
      ]
     },
     "metadata": {
      "needs_background": "light"
     },
     "output_type": "display_data"
    },
    {
     "name": "stdout",
     "output_type": "stream",
     "text": [
      "Predicted moles of H+/OH- ions to reach target (pH = 5.8): -289 umol.\n",
      "Dispensing 40 uL acid is complete\n"
     ]
    },
    {
     "data": {
      "text/html": [
       "<div>\n",
       "<style scoped>\n",
       "    .dataframe tbody tr th:only-of-type {\n",
       "        vertical-align: middle;\n",
       "    }\n",
       "\n",
       "    .dataframe tbody tr th {\n",
       "        vertical-align: top;\n",
       "    }\n",
       "\n",
       "    .dataframe thead th {\n",
       "        text-align: right;\n",
       "    }\n",
       "</style>\n",
       "<table border=\"1\" class=\"dataframe\">\n",
       "  <thead>\n",
       "    <tr style=\"text-align: right;\">\n",
       "      <th></th>\n",
       "      <th>Net volume of acid(-)/base(+) (μL)</th>\n",
       "      <th>Net moles of protons(-)/hydroxide(+) (μmol)</th>\n",
       "      <th>pH of Sample</th>\n",
       "      <th>Mixing time (s)</th>\n",
       "    </tr>\n",
       "  </thead>\n",
       "  <tbody>\n",
       "    <tr>\n",
       "      <th>0</th>\n",
       "      <td>0</td>\n",
       "      <td>0.000000</td>\n",
       "      <td>9.965</td>\n",
       "      <td>0</td>\n",
       "    </tr>\n",
       "    <tr>\n",
       "      <th>1</th>\n",
       "      <td>-93</td>\n",
       "      <td>-130.013719</td>\n",
       "      <td>6.995</td>\n",
       "      <td>41</td>\n",
       "    </tr>\n",
       "    <tr>\n",
       "      <th>2</th>\n",
       "      <td>-124</td>\n",
       "      <td>-171.418750</td>\n",
       "      <td>6.720</td>\n",
       "      <td>36</td>\n",
       "    </tr>\n",
       "    <tr>\n",
       "      <th>3</th>\n",
       "      <td>-184</td>\n",
       "      <td>-245.650692</td>\n",
       "      <td>6.385</td>\n",
       "      <td>36</td>\n",
       "    </tr>\n",
       "    <tr>\n",
       "      <th>4</th>\n",
       "      <td>-224</td>\n",
       "      <td>-292.982578</td>\n",
       "      <td>6.215</td>\n",
       "      <td>31</td>\n",
       "    </tr>\n",
       "  </tbody>\n",
       "</table>\n",
       "</div>"
      ],
      "text/plain": [
       "   Net volume of acid(-)/base(+) (μL)  \\\n",
       "0                                   0   \n",
       "1                                 -93   \n",
       "2                                -124   \n",
       "3                                -184   \n",
       "4                                -224   \n",
       "\n",
       "   Net moles of protons(-)/hydroxide(+) (μmol)  pH of Sample  Mixing time (s)  \n",
       "0                                     0.000000         9.965                0  \n",
       "1                                  -130.013719         6.995               41  \n",
       "2                                  -171.418750         6.720               36  \n",
       "3                                  -245.650692         6.385               36  \n",
       "4                                  -292.982578         6.215               31  "
      ]
     },
     "metadata": {},
     "output_type": "display_data"
    },
    {
     "data": {
      "image/png": "[encoded data removed]",
      "text/plain": [
       "<Figure size 432x288 with 1 Axes>"
      ]
     },
     "metadata": {
      "needs_background": "light"
     },
     "output_type": "display_data"
    },
    {
     "name": "stdout",
     "output_type": "stream",
     "text": [
      "Predicted moles of H+/OH- ions to reach target (pH = 5.8): -352 umol.\n",
      "Dispensing 55 uL acid is complete\n"
     ]
    },
    {
     "data": {
      "text/html": [
       "<div>\n",
       "<style scoped>\n",
       "    .dataframe tbody tr th:only-of-type {\n",
       "        vertical-align: middle;\n",
       "    }\n",
       "\n",
       "    .dataframe tbody tr th {\n",
       "        vertical-align: top;\n",
       "    }\n",
       "\n",
       "    .dataframe thead th {\n",
       "        text-align: right;\n",
       "    }\n",
       "</style>\n",
       "<table border=\"1\" class=\"dataframe\">\n",
       "  <thead>\n",
       "    <tr style=\"text-align: right;\">\n",
       "      <th></th>\n",
       "      <th>Net volume of acid(-)/base(+) (μL)</th>\n",
       "      <th>Net moles of protons(-)/hydroxide(+) (μmol)</th>\n",
       "      <th>pH of Sample</th>\n",
       "      <th>Mixing time (s)</th>\n",
       "    </tr>\n",
       "  </thead>\n",
       "  <tbody>\n",
       "    <tr>\n",
       "      <th>0</th>\n",
       "      <td>0</td>\n",
       "      <td>0.000000</td>\n",
       "      <td>9.965</td>\n",
       "      <td>0</td>\n",
       "    </tr>\n",
       "    <tr>\n",
       "      <th>1</th>\n",
       "      <td>-93</td>\n",
       "      <td>-130.013719</td>\n",
       "      <td>6.995</td>\n",
       "      <td>41</td>\n",
       "    </tr>\n",
       "    <tr>\n",
       "      <th>2</th>\n",
       "      <td>-124</td>\n",
       "      <td>-171.418750</td>\n",
       "      <td>6.720</td>\n",
       "      <td>36</td>\n",
       "    </tr>\n",
       "    <tr>\n",
       "      <th>3</th>\n",
       "      <td>-184</td>\n",
       "      <td>-245.650692</td>\n",
       "      <td>6.385</td>\n",
       "      <td>36</td>\n",
       "    </tr>\n",
       "    <tr>\n",
       "      <th>4</th>\n",
       "      <td>-224</td>\n",
       "      <td>-292.982578</td>\n",
       "      <td>6.215</td>\n",
       "      <td>31</td>\n",
       "    </tr>\n",
       "    <tr>\n",
       "      <th>5</th>\n",
       "      <td>-279</td>\n",
       "      <td>-354.824125</td>\n",
       "      <td>6.025</td>\n",
       "      <td>31</td>\n",
       "    </tr>\n",
       "  </tbody>\n",
       "</table>\n",
       "</div>"
      ],
      "text/plain": [
       "   Net volume of acid(-)/base(+) (μL)  \\\n",
       "0                                   0   \n",
       "1                                 -93   \n",
       "2                                -124   \n",
       "3                                -184   \n",
       "4                                -224   \n",
       "5                                -279   \n",
       "\n",
       "   Net moles of protons(-)/hydroxide(+) (μmol)  pH of Sample  Mixing time (s)  \n",
       "0                                     0.000000         9.965                0  \n",
       "1                                  -130.013719         6.995               41  \n",
       "2                                  -171.418750         6.720               36  \n",
       "3                                  -245.650692         6.385               36  \n",
       "4                                  -292.982578         6.215               31  \n",
       "5                                  -354.824125         6.025               31  "
      ]
     },
     "metadata": {},
     "output_type": "display_data"
    },
    {
     "data": {
      "image/png": "[encoded data removed]",
      "text/plain": [
       "<Figure size 432x288 with 1 Axes>"
      ]
     },
     "metadata": {
      "needs_background": "light"
     },
     "output_type": "display_data"
    },
    {
     "name": "stdout",
     "output_type": "stream",
     "text": [
      "Predicted moles of H+/OH- ions to reach target (pH = 5.8): -389 umol.\n",
      "Dispensing 32 uL acid is complete\n"
     ]
    },
    {
     "data": {
      "text/html": [
       "<div>\n",
       "<style scoped>\n",
       "    .dataframe tbody tr th:only-of-type {\n",
       "        vertical-align: middle;\n",
       "    }\n",
       "\n",
       "    .dataframe tbody tr th {\n",
       "        vertical-align: top;\n",
       "    }\n",
       "\n",
       "    .dataframe thead th {\n",
       "        text-align: right;\n",
       "    }\n",
       "</style>\n",
       "<table border=\"1\" class=\"dataframe\">\n",
       "  <thead>\n",
       "    <tr style=\"text-align: right;\">\n",
       "      <th></th>\n",
       "      <th>Net volume of acid(-)/base(+) (μL)</th>\n",
       "      <th>Net moles of protons(-)/hydroxide(+) (μmol)</th>\n",
       "      <th>pH of Sample</th>\n",
       "      <th>Mixing time (s)</th>\n",
       "    </tr>\n",
       "  </thead>\n",
       "  <tbody>\n",
       "    <tr>\n",
       "      <th>0</th>\n",
       "      <td>0</td>\n",
       "      <td>0.000000</td>\n",
       "      <td>9.965</td>\n",
       "      <td>0</td>\n",
       "    </tr>\n",
       "    <tr>\n",
       "      <th>1</th>\n",
       "      <td>-93</td>\n",
       "      <td>-130.013719</td>\n",
       "      <td>6.995</td>\n",
       "      <td>41</td>\n",
       "    </tr>\n",
       "    <tr>\n",
       "      <th>2</th>\n",
       "      <td>-124</td>\n",
       "      <td>-171.418750</td>\n",
       "      <td>6.720</td>\n",
       "      <td>36</td>\n",
       "    </tr>\n",
       "    <tr>\n",
       "      <th>3</th>\n",
       "      <td>-184</td>\n",
       "      <td>-245.650692</td>\n",
       "      <td>6.385</td>\n",
       "      <td>36</td>\n",
       "    </tr>\n",
       "    <tr>\n",
       "      <th>4</th>\n",
       "      <td>-224</td>\n",
       "      <td>-292.982578</td>\n",
       "      <td>6.215</td>\n",
       "      <td>31</td>\n",
       "    </tr>\n",
       "    <tr>\n",
       "      <th>5</th>\n",
       "      <td>-279</td>\n",
       "      <td>-354.824125</td>\n",
       "      <td>6.025</td>\n",
       "      <td>31</td>\n",
       "    </tr>\n",
       "    <tr>\n",
       "      <th>6</th>\n",
       "      <td>-311</td>\n",
       "      <td>-389.761493</td>\n",
       "      <td>5.915</td>\n",
       "      <td>305</td>\n",
       "    </tr>\n",
       "  </tbody>\n",
       "</table>\n",
       "</div>"
      ],
      "text/plain": [
       "   Net volume of acid(-)/base(+) (μL)  \\\n",
       "0                                   0   \n",
       "1                                 -93   \n",
       "2                                -124   \n",
       "3                                -184   \n",
       "4                                -224   \n",
       "5                                -279   \n",
       "6                                -311   \n",
       "\n",
       "   Net moles of protons(-)/hydroxide(+) (μmol)  pH of Sample  Mixing time (s)  \n",
       "0                                     0.000000         9.965                0  \n",
       "1                                  -130.013719         6.995               41  \n",
       "2                                  -171.418750         6.720               36  \n",
       "3                                  -245.650692         6.385               36  \n",
       "4                                  -292.982578         6.215               31  \n",
       "5                                  -354.824125         6.025               31  \n",
       "6                                  -389.761493         5.915              305  "
      ]
     },
     "metadata": {},
     "output_type": "display_data"
    },
    {
     "name": "stdout",
     "output_type": "stream",
     "text": [
      "SAMPLE WITHIN TARGET pH RANGE! :)\n",
      "Titration complete\n",
      "Washing complete\n",
      "Dispensing 74 uL acid is complete\n"
     ]
    },
    {
     "data": {
      "text/html": [
       "<div>\n",
       "<style scoped>\n",
       "    .dataframe tbody tr th:only-of-type {\n",
       "        vertical-align: middle;\n",
       "    }\n",
       "\n",
       "    .dataframe tbody tr th {\n",
       "        vertical-align: top;\n",
       "    }\n",
       "\n",
       "    .dataframe thead th {\n",
       "        text-align: right;\n",
       "    }\n",
       "</style>\n",
       "<table border=\"1\" class=\"dataframe\">\n",
       "  <thead>\n",
       "    <tr style=\"text-align: right;\">\n",
       "      <th></th>\n",
       "      <th>Net volume of acid(-)/base(+) (μL)</th>\n",
       "      <th>Net moles of protons(-)/hydroxide(+) (μmol)</th>\n",
       "      <th>pH of Sample</th>\n",
       "      <th>Mixing time (s)</th>\n",
       "    </tr>\n",
       "  </thead>\n",
       "  <tbody>\n",
       "    <tr>\n",
       "      <th>0</th>\n",
       "      <td>0</td>\n",
       "      <td>0.000000</td>\n",
       "      <td>6.100</td>\n",
       "      <td>0</td>\n",
       "    </tr>\n",
       "    <tr>\n",
       "      <th>1</th>\n",
       "      <td>-74</td>\n",
       "      <td>-80.150489</td>\n",
       "      <td>5.885</td>\n",
       "      <td>31</td>\n",
       "    </tr>\n",
       "  </tbody>\n",
       "</table>\n",
       "</div>"
      ],
      "text/plain": [
       "   Net volume of acid(-)/base(+) (μL)  \\\n",
       "0                                   0   \n",
       "1                                 -74   \n",
       "\n",
       "   Net moles of protons(-)/hydroxide(+) (μmol)  pH of Sample  Mixing time (s)  \n",
       "0                                     0.000000         6.100                0  \n",
       "1                                   -80.150489         5.885               31  "
      ]
     },
     "metadata": {},
     "output_type": "display_data"
    },
    {
     "name": "stdout",
     "output_type": "stream",
     "text": [
      "SAMPLE WITHIN TARGET pH RANGE! :)\n",
      "Titration complete\n",
      "Washing complete\n",
      "Dispensing 96 uL acid is complete\n"
     ]
    },
    {
     "data": {
      "text/html": [
       "<div>\n",
       "<style scoped>\n",
       "    .dataframe tbody tr th:only-of-type {\n",
       "        vertical-align: middle;\n",
       "    }\n",
       "\n",
       "    .dataframe tbody tr th {\n",
       "        vertical-align: top;\n",
       "    }\n",
       "\n",
       "    .dataframe thead th {\n",
       "        text-align: right;\n",
       "    }\n",
       "</style>\n",
       "<table border=\"1\" class=\"dataframe\">\n",
       "  <thead>\n",
       "    <tr style=\"text-align: right;\">\n",
       "      <th></th>\n",
       "      <th>Net volume of acid(-)/base(+) (μL)</th>\n",
       "      <th>Net moles of protons(-)/hydroxide(+) (μmol)</th>\n",
       "      <th>pH of Sample</th>\n",
       "      <th>Mixing time (s)</th>\n",
       "    </tr>\n",
       "  </thead>\n",
       "  <tbody>\n",
       "    <tr>\n",
       "      <th>0</th>\n",
       "      <td>0</td>\n",
       "      <td>0.000000</td>\n",
       "      <td>8.800</td>\n",
       "      <td>0</td>\n",
       "    </tr>\n",
       "    <tr>\n",
       "      <th>1</th>\n",
       "      <td>-96</td>\n",
       "      <td>-106.219894</td>\n",
       "      <td>5.965</td>\n",
       "      <td>113</td>\n",
       "    </tr>\n",
       "  </tbody>\n",
       "</table>\n",
       "</div>"
      ],
      "text/plain": [
       "   Net volume of acid(-)/base(+) (μL)  \\\n",
       "0                                   0   \n",
       "1                                 -96   \n",
       "\n",
       "   Net moles of protons(-)/hydroxide(+) (μmol)  pH of Sample  Mixing time (s)  \n",
       "0                                     0.000000         8.800                0  \n",
       "1                                  -106.219894         5.965              113  "
      ]
     },
     "metadata": {},
     "output_type": "display_data"
    },
    {
     "name": "stdout",
     "output_type": "stream",
     "text": [
      "SAMPLE WITHIN TARGET pH RANGE! :)\n",
      "Titration complete\n",
      "Washing complete\n",
      "0, 0, 90\n"
     ]
    }
   ],
   "source": [
    "batch_titration(samples, samples_loc, pH_target=5.8, pH_dev=0.02, dpHdt_dev=0.0025)"
   ]
  }
 ],
 "metadata": {
  "kernelspec": {
   "display_name": "Python 3 (ipykernel)",
   "language": "python",
   "name": "python3"
  },
  "language_info": {
   "codemirror_mode": {
    "name": "ipython",
    "version": 3
   },
   "file_extension": ".py",
   "mimetype": "text/x-python",
   "name": "python",
   "nbconvert_exporter": "python",
   "pygments_lexer": "ipython3",
   "version": "3.10.4"
  }
 },
 "nbformat": 4,
 "nbformat_minor": 5
}
